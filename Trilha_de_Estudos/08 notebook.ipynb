{
 "cells": [
  {
   "cell_type": "markdown",
   "metadata": {},
   "source": [
    "# <center> Teste de Hipótese  </center> #"
   ]
  },
  {
   "cell_type": "markdown",
   "metadata": {},
   "source": [
    "Nossa hipótese é que em média uma pessoa gasta 90 minutos no trajeto Diadema - Faria Lima em cada uma de suas viagens. Testaremos esta percepção ('achismo')  através de um teste de hipótese."
   ]
  },
  {
   "cell_type": "code",
   "execution_count": 1,
   "metadata": {},
   "outputs": [],
   "source": [
    "import numpy as np\n",
    "import pandas as pd\n",
    "import matplotlib.pyplot as plt"
   ]
  },
  {
   "cell_type": "markdown",
   "metadata": {},
   "source": [
    "### Documentação np.random.normal : \n",
    "https://docs.scipy.org/doc/numpy-1.15.0/reference/generated/numpy.random.normal.html </p>\n",
    "media = 1 parametro<br>\n",
    "scale = desvio padrão<br>\n",
    "size = tamanho da amostra<br>"
   ]
  },
  {
   "cell_type": "code",
   "execution_count": 8,
   "metadata": {},
   "outputs": [],
   "source": [
    "#criando uma amostra usando np.random.normal (ida) \n",
    "np.random.seed(seed = 10)\n",
    "tempo_transporte = np.random.normal(87, 10, size = 90)"
   ]
  },
  {
   "cell_type": "code",
   "execution_count": 3,
   "metadata": {},
   "outputs": [
    {
     "data": {
      "image/png": "[encoded data removed]",
      "text/plain": [
       "<Figure size 432x288 with 1 Axes>"
      ]
     },
     "metadata": {
      "needs_background": "light"
     },
     "output_type": "display_data"
    }
   ],
   "source": [
    "#plot histograma (ida)\n",
    "plt.hist(tempo_transporte, bins = 40);"
   ]
  },
  {
   "cell_type": "code",
   "execution_count": 4,
   "metadata": {},
   "outputs": [
    {
     "data": {
      "text/plain": [
       "87.81055665867586"
      ]
     },
     "execution_count": 4,
     "metadata": {},
     "output_type": "execute_result"
    }
   ],
   "source": [
    "#análise média (ida)\n",
    "np.mean(tempo_transporte)"
   ]
  },
  {
   "cell_type": "code",
   "execution_count": 5,
   "metadata": {},
   "outputs": [
    {
     "data": {
      "text/plain": [
       "87.51720323384639"
      ]
     },
     "execution_count": 5,
     "metadata": {},
     "output_type": "execute_result"
    }
   ],
   "source": [
    "#análise mediana\n",
    "np.median(tempo_transporte)"
   ]
  },
  {
   "cell_type": "code",
   "execution_count": 6,
   "metadata": {},
   "outputs": [
    {
     "data": {
      "text/plain": [
       "9.752625790712477"
      ]
     },
     "execution_count": 6,
     "metadata": {},
     "output_type": "execute_result"
    }
   ],
   "source": [
    "#análise devio padrão\n",
    "np.std(tempo_transporte)"
   ]
  },
  {
   "cell_type": "code",
   "execution_count": 20,
   "metadata": {},
   "outputs": [],
   "source": [
    "#criando uma amostra usando np.random.normal (ida) \n",
    "np.random.seed(seed = 10)\n",
    "tempo_transporte2 = np.random.normal(87, 10, size = 9000)"
   ]
  },
  {
   "cell_type": "code",
   "execution_count": 21,
   "metadata": {},
   "outputs": [
    {
     "data": {
      "image/png": "[encoded data removed]",
      "text/plain": [
       "<Figure size 432x288 with 1 Axes>"
      ]
     },
     "metadata": {
      "needs_background": "light"
     },
     "output_type": "display_data"
    }
   ],
   "source": [
    "plt.hist(tempo_transporte2, bins = 40);"
   ]
  },
  {
   "cell_type": "code",
   "execution_count": 22,
   "metadata": {},
   "outputs": [
    {
     "data": {
      "text/plain": [
       "(87.00330097985307, 9.906340700090917)"
      ]
     },
     "execution_count": 22,
     "metadata": {},
     "output_type": "execute_result"
    }
   ],
   "source": [
    "mean2 = np.mean(tempo_transporte2)\n",
    "std2 = np.std(tempo_transporte2)\n",
    "(mean2, std2)"
   ]
  },
  {
   "attachments": {
    "image.png": {
     "image/png": "[encoded data removed]"
    }
   },
   "cell_type": "markdown",
   "metadata": {},
   "source": [
    "### Passos:\n",
    "**1)** Qual o nível de significância que queremos assumir? *Qual a confiança de nosso teste?* </pr><br>\n",
    "**2)** Será que a nossa média está dentro do nosso intervalo ideal, 90min?</p>\n",
    "*lembrando que eu só rejeito o que está muito distante, uma vez que falamos que é em média 90min*\n",
    "\n",
    "notamos que nossa média amostral é de aprox. 87.81\n",
    "\n",
    "tabela: https://www.topinvest.com.br/distribuicao-normal/\n",
    "\n",
    "fórmula Z-Score (normalização pros manos)\n",
    "\n",
    "![image.png](attachment:image.png) -=> vamos pesquisar\n",
    "Depende do tamanho da amostra a gente utiliza ou a fórmula acima ou essa:\n",
    "\n",
    "z = (x-mean_sample)/std"
   ]
  },
  {
   "cell_type": "markdown",
   "metadata": {},
   "source": [
    "### Desafio:\n",
    "\n",
    "Com esse valor acima de média e assumindo 5% de nível de significância, podemos falar que nâo temos evidências para rejeitar a nossa hipótese (tempo médio da viagem Diadema - Faria Lima = 90)?\n",
    "\n",
    "\n"
   ]
  },
  {
   "cell_type": "code",
   "execution_count": 12,
   "metadata": {},
   "outputs": [],
   "source": [
    "#valores\n",
    "x = 90\n",
    "mean_sample = 87.81\n",
    "std = np.std(tempo_transporte)\n",
    "n = np.sqrt(90)"
   ]
  },
  {
   "cell_type": "code",
   "execution_count": 13,
   "metadata": {},
   "outputs": [
    {
     "name": "stdout",
     "output_type": "stream",
     "text": [
      "O valor de z é: 0.2245549093133007\n"
     ]
    }
   ],
   "source": [
    "#localizando na tabela z os valores\n",
    "z = (x-mean_sample) / std\n",
    "print('O valor de z é:', z)"
   ]
  },
  {
   "attachments": {},
   "cell_type": "markdown",
   "metadata": {},
   "source": [
    "Traduzimos a informação da nossa amostra para a normal padrão (escala 0 - 1).\n",
    "Nossa significância é de 5%, ou seja, aceitamos errar 5% ou acertar 95%. Para descobrirmos se nosso valor está dentro desta margem buscamos na tabela Z onde é que está 95%. \n",
    "\n",
    "O valor de 95% de confiança está em 1.96. Como a normal tem dois lados a área sobre a nossa curva, observamos que 0.22 está dentro da área de não rejeitarmos a nossa hipótese nula."
   ]
  },
  {
   "cell_type": "markdown",
   "metadata": {},
   "source": [
    "Para sabermos se a gente rejeita ou não nossa hipótese precisamos checar se o nosso nível de significância ...... através doa fóruma de z.alfa/2 "
   ]
  },
  {
   "cell_type": "code",
   "execution_count": 37,
   "metadata": {},
   "outputs": [],
   "source": [
    "tempo_transporte3 = np.random.normal(20, 4.75, size = 9000)"
   ]
  },
  {
   "cell_type": "code",
   "execution_count": 38,
   "metadata": {},
   "outputs": [
    {
     "data": {
      "image/png": "[encoded data removed]",
      "text/plain": [
       "<Figure size 432x288 with 1 Axes>"
      ]
     },
     "metadata": {
      "needs_background": "light"
     },
     "output_type": "display_data"
    }
   ],
   "source": [
    "plt.hist(tempo_transporte3, bins = 40);"
   ]
  },
  {
   "cell_type": "code",
   "execution_count": 33,
   "metadata": {},
   "outputs": [],
   "source": [
    "x3 = 90\n",
    "mean_sample3 = 20\n",
    "std3 = np.std(tempo_transporte3)\n",
    "n3 = np.sqrt(90)"
   ]
  },
  {
   "cell_type": "code",
   "execution_count": 36,
   "metadata": {},
   "outputs": [
    {
     "data": {
      "text/plain": [
       "14.700947445868836"
      ]
     },
     "execution_count": 36,
     "metadata": {},
     "output_type": "execute_result"
    }
   ],
   "source": [
    "z3 = (x3-mean_sample3)/std3\n",
    "z3"
   ]
  },
  {
   "cell_type": "markdown",
   "metadata": {},
   "source": [
    "para próxima aula a gente verá o TIPS para enxergamos se mulheres dão + tips do que os homens =) - pegar a base e colocar no notebook"
   ]
  },
  {
   "cell_type": "code",
   "execution_count": null,
   "metadata": {},
   "outputs": [],
   "source": []
  }
 ],
 "metadata": {
  "kernelspec": {
   "display_name": "Python 3",
   "language": "python",
   "name": "python3"
  },
  "language_info": {
   "codemirror_mode": {
    "name": "ipython",
    "version": 3
   },
   "file_extension": ".py",
   "mimetype": "text/x-python",
   "name": "python",
   "nbconvert_exporter": "python",
   "pygments_lexer": "ipython3",
   "version": "3.7.3"
  }
 },
 "nbformat": 4,
 "nbformat_minor": 2
}
