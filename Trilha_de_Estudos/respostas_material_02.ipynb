{
 "cells": [
  {
   "cell_type": "markdown",
   "metadata": {},
   "source": [
    "# Semana 2\n",
    "## *Probabilidade básica - Propriedades*\n"
   ]
  },
  {
   "cell_type": "code",
   "execution_count": 1,
   "metadata": {},
   "outputs": [],
   "source": [
    "#importanto as bibliotecas\n",
    "import pandas as pd\n",
    "import numpy as np"
   ]
  },
  {
   "cell_type": "markdown",
   "metadata": {},
   "source": [
    "### 1. Foram coletados os dados de 16 meninas, sobre Escolaridade e se Trabalham ou não como programadoras."
   ]
  },
  {
   "cell_type": "code",
   "execution_count": 2,
   "metadata": {},
   "outputs": [
    {
     "data": {
      "text/html": [
       "<div>\n",
       "<style scoped>\n",
       "    .dataframe tbody tr th:only-of-type {\n",
       "        vertical-align: middle;\n",
       "    }\n",
       "\n",
       "    .dataframe tbody tr th {\n",
       "        vertical-align: top;\n",
       "    }\n",
       "\n",
       "    .dataframe thead th {\n",
       "        text-align: right;\n",
       "    }\n",
       "</style>\n",
       "<table border=\"1\" class=\"dataframe\">\n",
       "  <thead>\n",
       "    <tr style=\"text-align: right;\">\n",
       "      <th></th>\n",
       "      <th>escolaridade</th>\n",
       "      <th>não</th>\n",
       "      <th>sim</th>\n",
       "    </tr>\n",
       "  </thead>\n",
       "  <tbody>\n",
       "    <tr>\n",
       "      <th>0</th>\n",
       "      <td>superior completo</td>\n",
       "      <td>1</td>\n",
       "      <td>6</td>\n",
       "    </tr>\n",
       "    <tr>\n",
       "      <th>1</th>\n",
       "      <td>superior incompleto</td>\n",
       "      <td>3</td>\n",
       "      <td>3</td>\n",
       "    </tr>\n",
       "    <tr>\n",
       "      <th>2</th>\n",
       "      <td>ensino médio</td>\n",
       "      <td>2</td>\n",
       "      <td>1</td>\n",
       "    </tr>\n",
       "  </tbody>\n",
       "</table>\n",
       "</div>"
      ],
      "text/plain": [
       "          escolaridade  não  sim\n",
       "0    superior completo    1    6\n",
       "1  superior incompleto    3    3\n",
       "2         ensino médio    2    1"
      ]
     },
     "execution_count": 2,
     "metadata": {},
     "output_type": "execute_result"
    }
   ],
   "source": [
    "dic1 = {'escolaridade' : ['superior completo', 'superior incompleto', 'ensino médio'],\n",
    "       'não': [1,3,2], 'sim' : [6,3,1]}\n",
    "pyladies_escolaridade = pd.DataFrame(dic1)\n",
    "pyladies_escolaridade.head()"
   ]
  },
  {
   "cell_type": "markdown",
   "metadata": {},
   "source": [
    "1a.  Qual a probabilidade dela ter Superior Completo **E (interseção)** Trabalhar como programadora?"
   ]
  },
  {
   "cell_type": "code",
   "execution_count": 3,
   "metadata": {},
   "outputs": [
    {
     "data": {
      "text/plain": [
       "0.4375"
      ]
     },
     "execution_count": 3,
     "metadata": {},
     "output_type": "execute_result"
    }
   ],
   "source": [
    "# probalidade do ensino completo (P(A))\n",
    "7/16"
   ]
  },
  {
   "cell_type": "code",
   "execution_count": 4,
   "metadata": {},
   "outputs": [
    {
     "data": {
      "text/plain": [
       "0.625"
      ]
     },
     "execution_count": 4,
     "metadata": {},
     "output_type": "execute_result"
    }
   ],
   "source": [
    "#probalidade de tralhar como programadora (P(B))\n",
    "10/16"
   ]
  },
  {
   "cell_type": "markdown",
   "metadata": {},
   "source": [
    "$ P(A) \\cap P(B)$"
   ]
  },
  {
   "cell_type": "code",
   "execution_count": 5,
   "metadata": {},
   "outputs": [
    {
     "data": {
      "text/plain": [
       "0.375"
      ]
     },
     "execution_count": 5,
     "metadata": {},
     "output_type": "execute_result"
    }
   ],
   "source": [
    "#interseção\n",
    "6/16"
   ]
  },
  {
   "cell_type": "markdown",
   "metadata": {},
   "source": [
    "1b. probabilidade dela ter **até** o Ensino Médio?"
   ]
  },
  {
   "cell_type": "code",
   "execution_count": 6,
   "metadata": {},
   "outputs": [
    {
     "data": {
      "text/html": [
       "<div>\n",
       "<style scoped>\n",
       "    .dataframe tbody tr th:only-of-type {\n",
       "        vertical-align: middle;\n",
       "    }\n",
       "\n",
       "    .dataframe tbody tr th {\n",
       "        vertical-align: top;\n",
       "    }\n",
       "\n",
       "    .dataframe thead th {\n",
       "        text-align: right;\n",
       "    }\n",
       "</style>\n",
       "<table border=\"1\" class=\"dataframe\">\n",
       "  <thead>\n",
       "    <tr style=\"text-align: right;\">\n",
       "      <th></th>\n",
       "      <th>escolaridade</th>\n",
       "      <th>não</th>\n",
       "      <th>sim</th>\n",
       "      <th>total</th>\n",
       "    </tr>\n",
       "  </thead>\n",
       "  <tbody>\n",
       "    <tr>\n",
       "      <th>0</th>\n",
       "      <td>superior completo</td>\n",
       "      <td>1</td>\n",
       "      <td>6</td>\n",
       "      <td>7</td>\n",
       "    </tr>\n",
       "    <tr>\n",
       "      <th>1</th>\n",
       "      <td>superior incompleto</td>\n",
       "      <td>3</td>\n",
       "      <td>3</td>\n",
       "      <td>6</td>\n",
       "    </tr>\n",
       "    <tr>\n",
       "      <th>2</th>\n",
       "      <td>ensino médio</td>\n",
       "      <td>2</td>\n",
       "      <td>1</td>\n",
       "      <td>3</td>\n",
       "    </tr>\n",
       "  </tbody>\n",
       "</table>\n",
       "</div>"
      ],
      "text/plain": [
       "          escolaridade  não  sim  total\n",
       "0    superior completo    1    6      7\n",
       "1  superior incompleto    3    3      6\n",
       "2         ensino médio    2    1      3"
      ]
     },
     "execution_count": 6,
     "metadata": {},
     "output_type": "execute_result"
    }
   ],
   "source": [
    "pyladies_escolaridade['total'] = pyladies_escolaridade.sim + pyladies_escolaridade.não\n",
    "pyladies_escolaridade.head()"
   ]
  },
  {
   "cell_type": "code",
   "execution_count": 7,
   "metadata": {},
   "outputs": [
    {
     "data": {
      "text/plain": [
       "16"
      ]
     },
     "execution_count": 7,
     "metadata": {},
     "output_type": "execute_result"
    }
   ],
   "source": [
    "sum(pyladies_escolaridade.total)"
   ]
  },
  {
   "cell_type": "code",
   "execution_count": 8,
   "metadata": {},
   "outputs": [
    {
     "data": {
      "text/plain": [
       "0.1875"
      ]
     },
     "execution_count": 8,
     "metadata": {},
     "output_type": "execute_result"
    }
   ],
   "source": [
    "#ter apenas o ensino médio\n",
    "3/16"
   ]
  },
  {
   "cell_type": "markdown",
   "metadata": {},
   "source": [
    "1c. Qual a probabilidade dela **ter além** do Ensino Médio?"
   ]
  },
  {
   "cell_type": "markdown",
   "metadata": {},
   "source": [
    "Propiedade da probabilidade\n",
    "\n",
    "$ P(A) + P(B) = 1 $\n",
    "\n",
    "P(ter colegial) = $3/16$\n",
    "\n",
    "P(ter as duas coisas) = 16/16 = 1\n"
   ]
  },
  {
   "cell_type": "code",
   "execution_count": 9,
   "metadata": {},
   "outputs": [
    {
     "data": {
      "text/plain": [
       "0.8125"
      ]
     },
     "execution_count": 9,
     "metadata": {},
     "output_type": "execute_result"
    }
   ],
   "source": [
    "(1-3/16) #13/16"
   ]
  },
  {
   "cell_type": "markdown",
   "metadata": {},
   "source": [
    "1d. Qual a probabilidade dela ter **apenas** Ensino Médio **ou** não trabalhar como programadora?"
   ]
  },
  {
   "cell_type": "code",
   "execution_count": 10,
   "metadata": {},
   "outputs": [
    {
     "data": {
      "text/plain": [
       "0.1875"
      ]
     },
     "execution_count": 10,
     "metadata": {},
     "output_type": "execute_result"
    }
   ],
   "source": [
    "#ensino médio\n",
    "3/16"
   ]
  },
  {
   "cell_type": "code",
   "execution_count": 11,
   "metadata": {},
   "outputs": [
    {
     "data": {
      "text/plain": [
       "0.375"
      ]
     },
     "execution_count": 11,
     "metadata": {},
     "output_type": "execute_result"
    }
   ],
   "source": [
    "sum(pyladies_escolaridade.não)/16 #6/16"
   ]
  },
  {
   "cell_type": "markdown",
   "metadata": {},
   "source": [
    "$ P(A) + P(B) - (P(A) \\cap P(B))$"
   ]
  },
  {
   "cell_type": "code",
   "execution_count": 12,
   "metadata": {},
   "outputs": [
    {
     "data": {
      "text/plain": [
       "0.4375"
      ]
     },
     "execution_count": 12,
     "metadata": {},
     "output_type": "execute_result"
    }
   ],
   "source": [
    "3/16+6/16-2/16 # = 7/16"
   ]
  },
  {
   "cell_type": "markdown",
   "metadata": {},
   "source": [
    "### 2. Com o data set tips vamos pensar nas seguintes situações:\n",
    "a. Escolhido aleatoriamente uma observação do data set, qual a probabilidade de termos uma mulher fumante?\n",
    "\n",
    "b. E quando é mais provável ter clientes fumantes (independente do sexo), durante a semana ou aos finais de semana?"
   ]
  },
  {
   "cell_type": "code",
   "execution_count": 13,
   "metadata": {},
   "outputs": [],
   "source": [
    "#importando o dataset tips\n",
    "tips = pd.read_csv('https://raw.githubusercontent.com/PyLadiesSP/data-science/master/workshops/workshop_introdu%C3%A7%C3%A3o_estatistica_pandas/tips.csv')"
   ]
  },
  {
   "cell_type": "code",
   "execution_count": 14,
   "metadata": {},
   "outputs": [
    {
     "data": {
      "text/html": [
       "<div>\n",
       "<style scoped>\n",
       "    .dataframe tbody tr th:only-of-type {\n",
       "        vertical-align: middle;\n",
       "    }\n",
       "\n",
       "    .dataframe tbody tr th {\n",
       "        vertical-align: top;\n",
       "    }\n",
       "\n",
       "    .dataframe thead th {\n",
       "        text-align: right;\n",
       "    }\n",
       "</style>\n",
       "<table border=\"1\" class=\"dataframe\">\n",
       "  <thead>\n",
       "    <tr style=\"text-align: right;\">\n",
       "      <th></th>\n",
       "      <th>total_conta</th>\n",
       "      <th>gorjeta</th>\n",
       "      <th>genero</th>\n",
       "      <th>fumante</th>\n",
       "      <th>dia</th>\n",
       "      <th>horario</th>\n",
       "      <th>pessoas_mesa</th>\n",
       "      <th>tempo_permanencia</th>\n",
       "    </tr>\n",
       "  </thead>\n",
       "  <tbody>\n",
       "    <tr>\n",
       "      <th>0</th>\n",
       "      <td>16.99</td>\n",
       "      <td>1.01</td>\n",
       "      <td>Feminino</td>\n",
       "      <td>nao</td>\n",
       "      <td>dom</td>\n",
       "      <td>jantar</td>\n",
       "      <td>2</td>\n",
       "      <td>41</td>\n",
       "    </tr>\n",
       "    <tr>\n",
       "      <th>1</th>\n",
       "      <td>10.34</td>\n",
       "      <td>1.66</td>\n",
       "      <td>Masculino</td>\n",
       "      <td>nao</td>\n",
       "      <td>dom</td>\n",
       "      <td>jantar</td>\n",
       "      <td>3</td>\n",
       "      <td>40</td>\n",
       "    </tr>\n",
       "    <tr>\n",
       "      <th>2</th>\n",
       "      <td>21.01</td>\n",
       "      <td>3.50</td>\n",
       "      <td>Masculino</td>\n",
       "      <td>nao</td>\n",
       "      <td>dom</td>\n",
       "      <td>jantar</td>\n",
       "      <td>3</td>\n",
       "      <td>49</td>\n",
       "    </tr>\n",
       "    <tr>\n",
       "      <th>3</th>\n",
       "      <td>23.68</td>\n",
       "      <td>3.31</td>\n",
       "      <td>Masculino</td>\n",
       "      <td>nao</td>\n",
       "      <td>dom</td>\n",
       "      <td>jantar</td>\n",
       "      <td>2</td>\n",
       "      <td>43</td>\n",
       "    </tr>\n",
       "    <tr>\n",
       "      <th>4</th>\n",
       "      <td>24.59</td>\n",
       "      <td>3.61</td>\n",
       "      <td>Feminino</td>\n",
       "      <td>nao</td>\n",
       "      <td>dom</td>\n",
       "      <td>jantar</td>\n",
       "      <td>4</td>\n",
       "      <td>34</td>\n",
       "    </tr>\n",
       "  </tbody>\n",
       "</table>\n",
       "</div>"
      ],
      "text/plain": [
       "   total_conta  gorjeta     genero fumante  dia horario  pessoas_mesa  \\\n",
       "0        16.99     1.01   Feminino     nao  dom  jantar             2   \n",
       "1        10.34     1.66  Masculino     nao  dom  jantar             3   \n",
       "2        21.01     3.50  Masculino     nao  dom  jantar             3   \n",
       "3        23.68     3.31  Masculino     nao  dom  jantar             2   \n",
       "4        24.59     3.61   Feminino     nao  dom  jantar             4   \n",
       "\n",
       "   tempo_permanencia  \n",
       "0                 41  \n",
       "1                 40  \n",
       "2                 49  \n",
       "3                 43  \n",
       "4                 34  "
      ]
     },
     "execution_count": 14,
     "metadata": {},
     "output_type": "execute_result"
    }
   ],
   "source": [
    "#confirmando a importação\n",
    "tips.head()"
   ]
  },
  {
   "cell_type": "markdown",
   "metadata": {},
   "source": [
    "### a. Escolhido aleatoriamente uma observação do data set, qual a probabilidade de termos uma mulher fumante? ### \n",
    "\n",
    "1) Identificar a probabilidade de ser mulher + fumante"
   ]
  },
  {
   "cell_type": "code",
   "execution_count": 59,
   "metadata": {},
   "outputs": [
    {
     "data": {
      "text/plain": [
       "(244, 8)"
      ]
     },
     "execution_count": 59,
     "metadata": {},
     "output_type": "execute_result"
    }
   ],
   "source": [
    "# identificando o tamanho do dataset(nosso campo amostral) (244 observações)\n",
    "tips.shape"
   ]
  },
  {
   "cell_type": "code",
   "execution_count": 45,
   "metadata": {},
   "outputs": [
    {
     "data": {
      "text/plain": [
       "genero     fumante\n",
       "Feminino   nao        54\n",
       "           sim        33\n",
       "Masculino  nao        97\n",
       "           sim        60\n",
       "Name: fumante, dtype: int64"
      ]
     },
     "execution_count": 45,
     "metadata": {},
     "output_type": "execute_result"
    }
   ],
   "source": [
    "# quantas mulheres são fumantes ? (número de )\n",
    "tips.groupby('genero')['fumante'].value_counts()"
   ]
  },
  {
   "cell_type": "code",
   "execution_count": 58,
   "metadata": {},
   "outputs": [
    {
     "name": "stdout",
     "output_type": "stream",
     "text": [
      "A probabilidade de ser mulher e fumante é de: 13.52\n"
     ]
    }
   ],
   "source": [
    "#probabilidade mulher + fumante\n",
    "print(\"A probabilidade de ser mulher e fumante é de:\", \"%.2f\" %((33/244)*100))"
   ]
  },
  {
   "cell_type": "markdown",
   "metadata": {},
   "source": [
    "### b. E quando é mais provável ter clientes fumantes (independente do sexo), durante a semana ou aos finais de semana?"
   ]
  },
  {
   "cell_type": "code",
   "execution_count": 89,
   "metadata": {},
   "outputs": [
    {
     "data": {
      "text/plain": [
       "dia  fumante\n",
       "dom  nao        57\n",
       "     sim        19\n",
       "qui  nao        45\n",
       "     sim        17\n",
       "sab  nao        45\n",
       "     sim        42\n",
       "sex  sim        15\n",
       "     nao         4\n",
       "Name: fumante, dtype: int64"
      ]
     },
     "execution_count": 89,
     "metadata": {},
     "output_type": "execute_result"
    }
   ],
   "source": [
    "#como está distribuído os clientes fumantes e não fumantes ao longo dos dias da semana ?\n",
    "tips.groupby('dia')['fumante'].value_counts()"
   ]
  },
  {
   "cell_type": "code",
   "execution_count": 129,
   "metadata": {},
   "outputs": [
    {
     "data": {
      "text/html": [
       "<div>\n",
       "<style scoped>\n",
       "    .dataframe tbody tr th:only-of-type {\n",
       "        vertical-align: middle;\n",
       "    }\n",
       "\n",
       "    .dataframe tbody tr th {\n",
       "        vertical-align: top;\n",
       "    }\n",
       "\n",
       "    .dataframe thead th {\n",
       "        text-align: right;\n",
       "    }\n",
       "</style>\n",
       "<table border=\"1\" class=\"dataframe\">\n",
       "  <thead>\n",
       "    <tr style=\"text-align: right;\">\n",
       "      <th></th>\n",
       "      <th>total_conta</th>\n",
       "      <th>gorjeta</th>\n",
       "      <th>genero</th>\n",
       "      <th>fumante</th>\n",
       "      <th>dia</th>\n",
       "      <th>horario</th>\n",
       "      <th>pessoas_mesa</th>\n",
       "      <th>tempo_permanencia</th>\n",
       "      <th>fds</th>\n",
       "    </tr>\n",
       "  </thead>\n",
       "  <tbody>\n",
       "    <tr>\n",
       "      <th>0</th>\n",
       "      <td>16.99</td>\n",
       "      <td>1.01</td>\n",
       "      <td>Feminino</td>\n",
       "      <td>nao</td>\n",
       "      <td>dom</td>\n",
       "      <td>jantar</td>\n",
       "      <td>2</td>\n",
       "      <td>41</td>\n",
       "      <td>sim</td>\n",
       "    </tr>\n",
       "    <tr>\n",
       "      <th>1</th>\n",
       "      <td>10.34</td>\n",
       "      <td>1.66</td>\n",
       "      <td>Masculino</td>\n",
       "      <td>nao</td>\n",
       "      <td>dom</td>\n",
       "      <td>jantar</td>\n",
       "      <td>3</td>\n",
       "      <td>40</td>\n",
       "      <td>sim</td>\n",
       "    </tr>\n",
       "    <tr>\n",
       "      <th>2</th>\n",
       "      <td>21.01</td>\n",
       "      <td>3.50</td>\n",
       "      <td>Masculino</td>\n",
       "      <td>nao</td>\n",
       "      <td>dom</td>\n",
       "      <td>jantar</td>\n",
       "      <td>3</td>\n",
       "      <td>49</td>\n",
       "      <td>sim</td>\n",
       "    </tr>\n",
       "    <tr>\n",
       "      <th>3</th>\n",
       "      <td>23.68</td>\n",
       "      <td>3.31</td>\n",
       "      <td>Masculino</td>\n",
       "      <td>nao</td>\n",
       "      <td>dom</td>\n",
       "      <td>jantar</td>\n",
       "      <td>2</td>\n",
       "      <td>43</td>\n",
       "      <td>sim</td>\n",
       "    </tr>\n",
       "    <tr>\n",
       "      <th>4</th>\n",
       "      <td>24.59</td>\n",
       "      <td>3.61</td>\n",
       "      <td>Feminino</td>\n",
       "      <td>nao</td>\n",
       "      <td>dom</td>\n",
       "      <td>jantar</td>\n",
       "      <td>4</td>\n",
       "      <td>34</td>\n",
       "      <td>sim</td>\n",
       "    </tr>\n",
       "  </tbody>\n",
       "</table>\n",
       "</div>"
      ],
      "text/plain": [
       "   total_conta  gorjeta     genero fumante  dia horario  pessoas_mesa  \\\n",
       "0        16.99     1.01   Feminino     nao  dom  jantar             2   \n",
       "1        10.34     1.66  Masculino     nao  dom  jantar             3   \n",
       "2        21.01     3.50  Masculino     nao  dom  jantar             3   \n",
       "3        23.68     3.31  Masculino     nao  dom  jantar             2   \n",
       "4        24.59     3.61   Feminino     nao  dom  jantar             4   \n",
       "\n",
       "   tempo_permanencia  fds  \n",
       "0                 41  sim  \n",
       "1                 40  sim  \n",
       "2                 49  sim  \n",
       "3                 43  sim  \n",
       "4                 34  sim  "
      ]
     },
     "execution_count": 129,
     "metadata": {},
     "output_type": "execute_result"
    }
   ],
   "source": [
    "#classificando em dia de semana e final de semana\n",
    "# criando uma nova variável com a classificação\n",
    "tips['fds'] = tips['dia'].map({'dom':'sim','sab':'sim', 'qui':'nao','sex':'nao'})\n",
    "tips.head()"
   ]
  },
  {
   "cell_type": "code",
   "execution_count": 131,
   "metadata": {},
   "outputs": [
    {
     "data": {
      "text/plain": [
       "fds  fumante\n",
       "nao  nao         49\n",
       "     sim         32\n",
       "sim  nao        102\n",
       "     sim         61\n",
       "Name: fumante, dtype: int64"
      ]
     },
     "execution_count": 131,
     "metadata": {},
     "output_type": "execute_result"
    }
   ],
   "source": [
    "#encontrando a distribuição de fumantes por final de semana\n",
    "tips.groupby('fds')['fumante'].value_counts()"
   ]
  },
  {
   "cell_type": "code",
   "execution_count": 136,
   "metadata": {},
   "outputs": [
    {
     "data": {
      "text/plain": [
       "sim    163\n",
       "nao     81\n",
       "Name: fds, dtype: int64"
      ]
     },
     "execution_count": 136,
     "metadata": {},
     "output_type": "execute_result"
    }
   ],
   "source": [
    "#distribuição dos clientes no final de semana\n",
    "tips['fds'].value_counts()"
   ]
  },
  {
   "cell_type": "markdown",
   "metadata": {},
   "source": [
    "Quando olhamos especifamente o final de semana nosso espaço amostral ($\\omega $) de clientes se altera para 163. Por isso para achar a probabilidade de ser cliente e fumante no final de semana é: $ \\frac{totalFumantesFDS}{clientesFDS}$"
   ]
  },
  {
   "cell_type": "code",
   "execution_count": 139,
   "metadata": {},
   "outputs": [
    {
     "name": "stdout",
     "output_type": "stream",
     "text": [
      "A probabilidade de se aleatoriamente escolhermos uma pessoal fumante no final de semana é de: 0.37423312883435583\n"
     ]
    }
   ],
   "source": [
    "#probabilidade de fumantes\n",
    "print('A probabilidade de se aleatoriamente escolhermos uma pessoal fumante no final de semana é de:' ,61/163)"
   ]
  }
 ],
 "metadata": {
  "kernelspec": {
   "display_name": "Python 3",
   "language": "python",
   "name": "python3"
  },
  "language_info": {
   "codemirror_mode": {
    "name": "ipython",
    "version": 3
   },
   "file_extension": ".py",
   "mimetype": "text/x-python",
   "name": "python",
   "nbconvert_exporter": "python",
   "pygments_lexer": "ipython3",
   "version": "3.7.3"
  }
 },
 "nbformat": 4,
 "nbformat_minor": 2
}
