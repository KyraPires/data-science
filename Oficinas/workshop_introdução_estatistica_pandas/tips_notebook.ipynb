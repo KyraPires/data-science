{
  "nbformat": 4,
  "nbformat_minor": 0,
  "metadata": {
    "colab": {
      "name": "tips.ipynb",
      "version": "0.3.2",
      "provenance": [],
      "collapsed_sections": [
        "Ml13168FjBI8",
        "jT4Quyz_jBJB",
        "iZf1-YzfjBJL",
        "2XQWTcVzjBJS",
        "gcr0wMjfjBJV",
        "dCs73-dyjBJZ",
        "6LNBuFJDjBJe",
        "76FH3Nv9jBJh",
        "hUGbnSemjBJk",
        "zcJVuo89jBJp",
        "HrFP45bXjBJs",
        "D6_CakH8jBKG",
        "Ax79pkAajBKL",
        "K_mz9tBcjBKP",
        "B_X5zUWhjBKX",
        "o201qU5zjBKb",
        "mPqv9BeRjBKf",
        "zYpN4tiUjBKk",
        "fEdw3VaVjBKo",
        "PzrwWYxWjBK3"
      ]
    },
    "kernelspec": {
      "display_name": "Python 3",
      "language": "python",
      "name": "python3"
    }
  },
  "cells": [
    {
      "metadata": {
        "id": "P7Osl3HrjBIK",
        "colab_type": "text"
      },
      "cell_type": "markdown",
      "source": [
        "### Tips Dataset\n",
        "O dataset Tips tem informações sobre os clientes de restaurantes, valores pagos, dia das refeições, entre outras informações.\n",
        "\n",
        "\n",
        "Ele está disponível em inglês na biblioteca Seaborn. O Grupo de Estudos de Ciência de Dados das PyLadies São Paulo tratou o dataset (tradução, inserção da coluna tempo_permanencia).  \n",
        "\n",
        "O dataset Tips será a sua base de dados de trabalho nesse workshop."
      ]
    },
    {
      "metadata": {
        "id": "Ci2oZLjgjBIM",
        "colab_type": "code",
        "outputId": "8faa563a-db42-412d-a02e-ea978ae6a188",
        "colab": {
          "resources": {
            "http://localhost:8080/nbextensions/google.colab/files.js": {
              "data": "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",
              "ok": true,
              "headers": [
                [
                  "content-type",
                  "application/javascript"
                ]
              ],
              "status": 200,
              "status_text": "OK"
            }
          },
          "base_uri": "https://localhost:8080/",
          "height": 83
        }
      },
      "cell_type": "code",
      "source": [
        "# Abrindo as bibliotecas que serão utilizadas\n",
        "import matplotlib.pyplot as plt\n",
        "import pandas as pd\n",
        "\n",
        "# Se for usar o Google Colab, rodar também as duas linhas abaixo. Caso contrário, comente as duas linhas abaixo com #.\n",
        "from google.colab import files\n",
        "uploaded = files.upload()"
      ],
      "execution_count": 3,
      "outputs": [
        {
          "output_type": "display_data",
          "data": {
            "text/html": [
              "\n",
              "     <input type=\"file\" id=\"files-7ce7c4bb-31d8-409b-b3a1-14644d83d65b\" name=\"files[]\" multiple disabled />\n",
              "     <output id=\"result-7ce7c4bb-31d8-409b-b3a1-14644d83d65b\">\n",
              "      Upload widget is only available when the cell has been executed in the\n",
              "      current browser session. Please rerun this cell to enable.\n",
              "      </output>\n",
              "      <script src=\"/nbextensions/google.colab/files.js\"></script> "
            ],
            "text/plain": [
              "<IPython.core.display.HTML object>"
            ]
          },
          "metadata": {
            "tags": []
          }
        },
        {
          "output_type": "stream",
          "text": [
            "Saving tips.csv to tips.csv\n"
          ],
          "name": "stdout"
        }
      ]
    },
    {
      "metadata": {
        "id": "3MbZQvjajBIQ",
        "colab_type": "code",
        "colab": {}
      },
      "cell_type": "code",
      "source": [
        "# Transformando o arquivo importando em um dataframe\n",
        "tips_data = pd.read_csv('tips.csv')"
      ],
      "execution_count": 0,
      "outputs": []
    },
    {
      "metadata": {
        "id": "V8WDoWlyjBIS",
        "colab_type": "text"
      },
      "cell_type": "markdown",
      "source": [
        "### Desafio: Conhecendo os dados"
      ]
    },
    {
      "metadata": {
        "id": "30mLXbfMjBIT",
        "colab_type": "text"
      },
      "cell_type": "markdown",
      "source": [
        "#### 1. Mostre as 7 primeiras linhas do dataset que você importou."
      ]
    },
    {
      "metadata": {
        "id": "XVexsBwrjBIT",
        "colab_type": "code",
        "outputId": "9cb599ce-4961-4e98-e059-781b7fd6061a",
        "colab": {
          "base_uri": "https://localhost:8080/",
          "height": 266
        }
      },
      "cell_type": "code",
      "source": [
        "tips_data.head(7)"
      ],
      "execution_count": 0,
      "outputs": [
        {
          "output_type": "execute_result",
          "data": {
            "text/html": [
              "<div>\n",
              "<style scoped>\n",
              "    .dataframe tbody tr th:only-of-type {\n",
              "        vertical-align: middle;\n",
              "    }\n",
              "\n",
              "    .dataframe tbody tr th {\n",
              "        vertical-align: top;\n",
              "    }\n",
              "\n",
              "    .dataframe thead th {\n",
              "        text-align: right;\n",
              "    }\n",
              "</style>\n",
              "<table border=\"1\" class=\"dataframe\">\n",
              "  <thead>\n",
              "    <tr style=\"text-align: right;\">\n",
              "      <th></th>\n",
              "      <th>total_conta</th>\n",
              "      <th>gorjeta</th>\n",
              "      <th>genero</th>\n",
              "      <th>fumante</th>\n",
              "      <th>dia</th>\n",
              "      <th>horario</th>\n",
              "      <th>pessoas_mesa</th>\n",
              "      <th>tempo_permanencia</th>\n",
              "    </tr>\n",
              "  </thead>\n",
              "  <tbody>\n",
              "    <tr>\n",
              "      <th>0</th>\n",
              "      <td>16.99</td>\n",
              "      <td>1.01</td>\n",
              "      <td>Feminino</td>\n",
              "      <td>nao</td>\n",
              "      <td>dom</td>\n",
              "      <td>jantar</td>\n",
              "      <td>2</td>\n",
              "      <td>41</td>\n",
              "    </tr>\n",
              "    <tr>\n",
              "      <th>1</th>\n",
              "      <td>10.34</td>\n",
              "      <td>1.66</td>\n",
              "      <td>Masculino</td>\n",
              "      <td>nao</td>\n",
              "      <td>dom</td>\n",
              "      <td>jantar</td>\n",
              "      <td>3</td>\n",
              "      <td>40</td>\n",
              "    </tr>\n",
              "    <tr>\n",
              "      <th>2</th>\n",
              "      <td>21.01</td>\n",
              "      <td>3.50</td>\n",
              "      <td>Masculino</td>\n",
              "      <td>nao</td>\n",
              "      <td>dom</td>\n",
              "      <td>jantar</td>\n",
              "      <td>3</td>\n",
              "      <td>49</td>\n",
              "    </tr>\n",
              "    <tr>\n",
              "      <th>3</th>\n",
              "      <td>23.68</td>\n",
              "      <td>3.31</td>\n",
              "      <td>Masculino</td>\n",
              "      <td>nao</td>\n",
              "      <td>dom</td>\n",
              "      <td>jantar</td>\n",
              "      <td>2</td>\n",
              "      <td>43</td>\n",
              "    </tr>\n",
              "    <tr>\n",
              "      <th>4</th>\n",
              "      <td>24.59</td>\n",
              "      <td>3.61</td>\n",
              "      <td>Feminino</td>\n",
              "      <td>nao</td>\n",
              "      <td>dom</td>\n",
              "      <td>jantar</td>\n",
              "      <td>4</td>\n",
              "      <td>34</td>\n",
              "    </tr>\n",
              "    <tr>\n",
              "      <th>5</th>\n",
              "      <td>25.29</td>\n",
              "      <td>4.71</td>\n",
              "      <td>Masculino</td>\n",
              "      <td>nao</td>\n",
              "      <td>dom</td>\n",
              "      <td>jantar</td>\n",
              "      <td>4</td>\n",
              "      <td>39</td>\n",
              "    </tr>\n",
              "    <tr>\n",
              "      <th>6</th>\n",
              "      <td>8.77</td>\n",
              "      <td>2.00</td>\n",
              "      <td>Masculino</td>\n",
              "      <td>nao</td>\n",
              "      <td>dom</td>\n",
              "      <td>jantar</td>\n",
              "      <td>2</td>\n",
              "      <td>41</td>\n",
              "    </tr>\n",
              "  </tbody>\n",
              "</table>\n",
              "</div>"
            ],
            "text/plain": [
              "   total_conta  gorjeta     genero fumante  dia horario  pessoas_mesa  \\\n",
              "0        16.99     1.01   Feminino     nao  dom  jantar             2   \n",
              "1        10.34     1.66  Masculino     nao  dom  jantar             3   \n",
              "2        21.01     3.50  Masculino     nao  dom  jantar             3   \n",
              "3        23.68     3.31  Masculino     nao  dom  jantar             2   \n",
              "4        24.59     3.61   Feminino     nao  dom  jantar             4   \n",
              "5        25.29     4.71  Masculino     nao  dom  jantar             4   \n",
              "6         8.77     2.00  Masculino     nao  dom  jantar             2   \n",
              "\n",
              "   tempo_permanencia  \n",
              "0                 41  \n",
              "1                 40  \n",
              "2                 49  \n",
              "3                 43  \n",
              "4                 34  \n",
              "5                 39  \n",
              "6                 41  "
            ]
          },
          "metadata": {
            "tags": []
          },
          "execution_count": 5
        }
      ]
    },
    {
      "metadata": {
        "id": "-2hQmN49jBIZ",
        "colab_type": "text"
      },
      "cell_type": "markdown",
      "source": [
        "#### 2. Mostre as 9 últimas linhas do dataset."
      ]
    },
    {
      "metadata": {
        "id": "N3R468AxjBIb",
        "colab_type": "code",
        "outputId": "5ff339a6-9c18-4e55-81ed-35963ce90daf",
        "colab": {
          "base_uri": "https://localhost:8080/",
          "height": 328
        }
      },
      "cell_type": "code",
      "source": [
        "tips_data.tail(9)"
      ],
      "execution_count": 0,
      "outputs": [
        {
          "output_type": "execute_result",
          "data": {
            "text/html": [
              "<div>\n",
              "<style scoped>\n",
              "    .dataframe tbody tr th:only-of-type {\n",
              "        vertical-align: middle;\n",
              "    }\n",
              "\n",
              "    .dataframe tbody tr th {\n",
              "        vertical-align: top;\n",
              "    }\n",
              "\n",
              "    .dataframe thead th {\n",
              "        text-align: right;\n",
              "    }\n",
              "</style>\n",
              "<table border=\"1\" class=\"dataframe\">\n",
              "  <thead>\n",
              "    <tr style=\"text-align: right;\">\n",
              "      <th></th>\n",
              "      <th>total_conta</th>\n",
              "      <th>gorjeta</th>\n",
              "      <th>genero</th>\n",
              "      <th>fumante</th>\n",
              "      <th>dia</th>\n",
              "      <th>horario</th>\n",
              "      <th>pessoas_mesa</th>\n",
              "      <th>tempo_permanencia</th>\n",
              "    </tr>\n",
              "  </thead>\n",
              "  <tbody>\n",
              "    <tr>\n",
              "      <th>235</th>\n",
              "      <td>10.07</td>\n",
              "      <td>1.25</td>\n",
              "      <td>Masculino</td>\n",
              "      <td>nao</td>\n",
              "      <td>sab</td>\n",
              "      <td>jantar</td>\n",
              "      <td>2</td>\n",
              "      <td>30</td>\n",
              "    </tr>\n",
              "    <tr>\n",
              "      <th>236</th>\n",
              "      <td>12.60</td>\n",
              "      <td>1.00</td>\n",
              "      <td>Masculino</td>\n",
              "      <td>sim</td>\n",
              "      <td>sab</td>\n",
              "      <td>jantar</td>\n",
              "      <td>2</td>\n",
              "      <td>50</td>\n",
              "    </tr>\n",
              "    <tr>\n",
              "      <th>237</th>\n",
              "      <td>32.83</td>\n",
              "      <td>1.17</td>\n",
              "      <td>Masculino</td>\n",
              "      <td>sim</td>\n",
              "      <td>sab</td>\n",
              "      <td>jantar</td>\n",
              "      <td>2</td>\n",
              "      <td>38</td>\n",
              "    </tr>\n",
              "    <tr>\n",
              "      <th>238</th>\n",
              "      <td>35.83</td>\n",
              "      <td>4.67</td>\n",
              "      <td>Feminino</td>\n",
              "      <td>nao</td>\n",
              "      <td>sab</td>\n",
              "      <td>jantar</td>\n",
              "      <td>3</td>\n",
              "      <td>42</td>\n",
              "    </tr>\n",
              "    <tr>\n",
              "      <th>239</th>\n",
              "      <td>29.03</td>\n",
              "      <td>5.92</td>\n",
              "      <td>Masculino</td>\n",
              "      <td>nao</td>\n",
              "      <td>sab</td>\n",
              "      <td>jantar</td>\n",
              "      <td>3</td>\n",
              "      <td>40</td>\n",
              "    </tr>\n",
              "    <tr>\n",
              "      <th>240</th>\n",
              "      <td>27.18</td>\n",
              "      <td>2.00</td>\n",
              "      <td>Feminino</td>\n",
              "      <td>sim</td>\n",
              "      <td>sab</td>\n",
              "      <td>jantar</td>\n",
              "      <td>2</td>\n",
              "      <td>35</td>\n",
              "    </tr>\n",
              "    <tr>\n",
              "      <th>241</th>\n",
              "      <td>22.67</td>\n",
              "      <td>2.00</td>\n",
              "      <td>Masculino</td>\n",
              "      <td>sim</td>\n",
              "      <td>sab</td>\n",
              "      <td>jantar</td>\n",
              "      <td>2</td>\n",
              "      <td>30</td>\n",
              "    </tr>\n",
              "    <tr>\n",
              "      <th>242</th>\n",
              "      <td>17.82</td>\n",
              "      <td>1.75</td>\n",
              "      <td>Masculino</td>\n",
              "      <td>nao</td>\n",
              "      <td>sab</td>\n",
              "      <td>jantar</td>\n",
              "      <td>2</td>\n",
              "      <td>38</td>\n",
              "    </tr>\n",
              "    <tr>\n",
              "      <th>243</th>\n",
              "      <td>18.78</td>\n",
              "      <td>3.00</td>\n",
              "      <td>Feminino</td>\n",
              "      <td>nao</td>\n",
              "      <td>qui</td>\n",
              "      <td>jantar</td>\n",
              "      <td>2</td>\n",
              "      <td>40</td>\n",
              "    </tr>\n",
              "  </tbody>\n",
              "</table>\n",
              "</div>"
            ],
            "text/plain": [
              "     total_conta  gorjeta     genero fumante  dia horario  pessoas_mesa  \\\n",
              "235        10.07     1.25  Masculino     nao  sab  jantar             2   \n",
              "236        12.60     1.00  Masculino     sim  sab  jantar             2   \n",
              "237        32.83     1.17  Masculino     sim  sab  jantar             2   \n",
              "238        35.83     4.67   Feminino     nao  sab  jantar             3   \n",
              "239        29.03     5.92  Masculino     nao  sab  jantar             3   \n",
              "240        27.18     2.00   Feminino     sim  sab  jantar             2   \n",
              "241        22.67     2.00  Masculino     sim  sab  jantar             2   \n",
              "242        17.82     1.75  Masculino     nao  sab  jantar             2   \n",
              "243        18.78     3.00   Feminino     nao  qui  jantar             2   \n",
              "\n",
              "     tempo_permanencia  \n",
              "235                 30  \n",
              "236                 50  \n",
              "237                 38  \n",
              "238                 42  \n",
              "239                 40  \n",
              "240                 35  \n",
              "241                 30  \n",
              "242                 38  \n",
              "243                 40  "
            ]
          },
          "metadata": {
            "tags": []
          },
          "execution_count": 6
        }
      ]
    },
    {
      "metadata": {
        "id": "go9i45CnjBId",
        "colab_type": "text"
      },
      "cell_type": "markdown",
      "source": [
        "#### 3. Quantas colunas e linhas tem o dataframe?"
      ]
    },
    {
      "metadata": {
        "id": "FqUiHKOJjBId",
        "colab_type": "code",
        "outputId": "9d675b91-c7a5-4d69-dcea-7a7f0ecc5d26",
        "colab": {
          "base_uri": "https://localhost:8080/",
          "height": 34
        }
      },
      "cell_type": "code",
      "source": [
        "tips_data.shape"
      ],
      "execution_count": 0,
      "outputs": [
        {
          "output_type": "execute_result",
          "data": {
            "text/plain": [
              "(244, 8)"
            ]
          },
          "metadata": {
            "tags": []
          },
          "execution_count": 7
        }
      ]
    },
    {
      "metadata": {
        "id": "1E568x8kjBIh",
        "colab_type": "text"
      },
      "cell_type": "markdown",
      "source": [
        "O dataframe tem 244 linhas e 8 colunas."
      ]
    },
    {
      "metadata": {
        "id": "wY6p5x86jBIi",
        "colab_type": "text"
      },
      "cell_type": "markdown",
      "source": [
        "#### 4. Quais são os nomes das colunas?"
      ]
    },
    {
      "metadata": {
        "id": "GqD9l0JOjBIj",
        "colab_type": "code",
        "outputId": "2a2576a4-2760-4237-fcdb-edaf7c428c04",
        "colab": {
          "base_uri": "https://localhost:8080/",
          "height": 68
        }
      },
      "cell_type": "code",
      "source": [
        "tips_data.columns"
      ],
      "execution_count": 0,
      "outputs": [
        {
          "output_type": "execute_result",
          "data": {
            "text/plain": [
              "Index(['total_conta', 'gorjeta', 'genero', 'fumante', 'dia', 'horario',\n",
              "       'pessoas_mesa', 'tempo_permanencia'],\n",
              "      dtype='object')"
            ]
          },
          "metadata": {
            "tags": []
          },
          "execution_count": 8
        }
      ]
    },
    {
      "metadata": {
        "id": "3GRCjAJPjBIm",
        "colab_type": "text"
      },
      "cell_type": "markdown",
      "source": [
        "#### 5. Mostre de uma vez só: quantas linhas e colunas tem o dataset, além do nome das colunas,   \n",
        "#### o tipo delas e se elas apresentam valores nulos."
      ]
    },
    {
      "metadata": {
        "id": "lJjF9FxkjBIn",
        "colab_type": "code",
        "outputId": "57dc7861-defb-4920-e5d9-8759351d8fdd",
        "colab": {
          "base_uri": "https://localhost:8080/",
          "height": 238
        }
      },
      "cell_type": "code",
      "source": [
        "tips_data.info()"
      ],
      "execution_count": 0,
      "outputs": [
        {
          "output_type": "stream",
          "text": [
            "<class 'pandas.core.frame.DataFrame'>\n",
            "RangeIndex: 244 entries, 0 to 243\n",
            "Data columns (total 8 columns):\n",
            "total_conta          244 non-null float64\n",
            "gorjeta              244 non-null float64\n",
            "genero               244 non-null object\n",
            "fumante              244 non-null object\n",
            "dia                  244 non-null object\n",
            "horario              244 non-null object\n",
            "pessoas_mesa         244 non-null int64\n",
            "tempo_permanencia    244 non-null int64\n",
            "dtypes: float64(2), int64(2), object(4)\n",
            "memory usage: 15.3+ KB\n"
          ],
          "name": "stdout"
        }
      ]
    },
    {
      "metadata": {
        "id": "5Bn_Z-oFjBIr",
        "colab_type": "text"
      },
      "cell_type": "markdown",
      "source": [
        "#### 6. Liste: a coluna gênero, depois somente a coluna gorjeta. Por último, liste as duas colunas: gorjeta e gênero."
      ]
    },
    {
      "metadata": {
        "id": "FIj6m9bRjBIs",
        "colab_type": "code",
        "cellView": "both",
        "colab": {}
      },
      "cell_type": "code",
      "source": [
        "#@title\n",
        "tips_data['genero']"
      ],
      "execution_count": 0,
      "outputs": []
    },
    {
      "metadata": {
        "id": "rUl2-VyGjBIv",
        "colab_type": "code",
        "colab": {}
      },
      "cell_type": "code",
      "source": [
        "tips_data['gorjeta']"
      ],
      "execution_count": 0,
      "outputs": []
    },
    {
      "metadata": {
        "id": "uH_m0je0jBIx",
        "colab_type": "code",
        "colab": {}
      },
      "cell_type": "code",
      "source": [
        "tips_data[['genero', 'gorjeta']]"
      ],
      "execution_count": 0,
      "outputs": []
    },
    {
      "metadata": {
        "id": "u-1tUVoAjBIz",
        "colab_type": "text"
      },
      "cell_type": "markdown",
      "source": [
        "#### 7. Filtre o dataframe com as linhas das clientes mulheres."
      ]
    },
    {
      "metadata": {
        "id": "Z2m8iE1OjBI0",
        "colab_type": "code",
        "outputId": "15e48e1b-ed91-4154-8772-4673b3eaa4d6",
        "colab": {
          "base_uri": "https://localhost:8080/",
          "height": 1969
        }
      },
      "cell_type": "code",
      "source": [
        "tips_data[tips_data['genero'] == 'Feminino']"
      ],
      "execution_count": 0,
      "outputs": [
        {
          "output_type": "execute_result",
          "data": {
            "text/html": [
              "<div>\n",
              "<style scoped>\n",
              "    .dataframe tbody tr th:only-of-type {\n",
              "        vertical-align: middle;\n",
              "    }\n",
              "\n",
              "    .dataframe tbody tr th {\n",
              "        vertical-align: top;\n",
              "    }\n",
              "\n",
              "    .dataframe thead th {\n",
              "        text-align: right;\n",
              "    }\n",
              "</style>\n",
              "<table border=\"1\" class=\"dataframe\">\n",
              "  <thead>\n",
              "    <tr style=\"text-align: right;\">\n",
              "      <th></th>\n",
              "      <th>total_conta</th>\n",
              "      <th>gorjeta</th>\n",
              "      <th>genero</th>\n",
              "      <th>fumante</th>\n",
              "      <th>dia</th>\n",
              "      <th>horario</th>\n",
              "      <th>pessoas_mesa</th>\n",
              "      <th>tempo_permanencia</th>\n",
              "    </tr>\n",
              "  </thead>\n",
              "  <tbody>\n",
              "    <tr>\n",
              "      <th>0</th>\n",
              "      <td>16.99</td>\n",
              "      <td>1.01</td>\n",
              "      <td>Feminino</td>\n",
              "      <td>nao</td>\n",
              "      <td>dom</td>\n",
              "      <td>jantar</td>\n",
              "      <td>2</td>\n",
              "      <td>41</td>\n",
              "    </tr>\n",
              "    <tr>\n",
              "      <th>4</th>\n",
              "      <td>24.59</td>\n",
              "      <td>3.61</td>\n",
              "      <td>Feminino</td>\n",
              "      <td>nao</td>\n",
              "      <td>dom</td>\n",
              "      <td>jantar</td>\n",
              "      <td>4</td>\n",
              "      <td>34</td>\n",
              "    </tr>\n",
              "    <tr>\n",
              "      <th>11</th>\n",
              "      <td>35.26</td>\n",
              "      <td>5.00</td>\n",
              "      <td>Feminino</td>\n",
              "      <td>nao</td>\n",
              "      <td>dom</td>\n",
              "      <td>jantar</td>\n",
              "      <td>4</td>\n",
              "      <td>38</td>\n",
              "    </tr>\n",
              "    <tr>\n",
              "      <th>14</th>\n",
              "      <td>14.83</td>\n",
              "      <td>3.02</td>\n",
              "      <td>Feminino</td>\n",
              "      <td>nao</td>\n",
              "      <td>dom</td>\n",
              "      <td>jantar</td>\n",
              "      <td>2</td>\n",
              "      <td>42</td>\n",
              "    </tr>\n",
              "    <tr>\n",
              "      <th>16</th>\n",
              "      <td>10.33</td>\n",
              "      <td>1.67</td>\n",
              "      <td>Feminino</td>\n",
              "      <td>nao</td>\n",
              "      <td>dom</td>\n",
              "      <td>jantar</td>\n",
              "      <td>3</td>\n",
              "      <td>35</td>\n",
              "    </tr>\n",
              "    <tr>\n",
              "      <th>18</th>\n",
              "      <td>16.97</td>\n",
              "      <td>3.50</td>\n",
              "      <td>Feminino</td>\n",
              "      <td>nao</td>\n",
              "      <td>dom</td>\n",
              "      <td>jantar</td>\n",
              "      <td>3</td>\n",
              "      <td>48</td>\n",
              "    </tr>\n",
              "    <tr>\n",
              "      <th>21</th>\n",
              "      <td>20.29</td>\n",
              "      <td>2.75</td>\n",
              "      <td>Feminino</td>\n",
              "      <td>nao</td>\n",
              "      <td>sab</td>\n",
              "      <td>jantar</td>\n",
              "      <td>2</td>\n",
              "      <td>44</td>\n",
              "    </tr>\n",
              "    <tr>\n",
              "      <th>22</th>\n",
              "      <td>15.77</td>\n",
              "      <td>2.23</td>\n",
              "      <td>Feminino</td>\n",
              "      <td>nao</td>\n",
              "      <td>sab</td>\n",
              "      <td>jantar</td>\n",
              "      <td>2</td>\n",
              "      <td>50</td>\n",
              "    </tr>\n",
              "    <tr>\n",
              "      <th>29</th>\n",
              "      <td>19.65</td>\n",
              "      <td>3.00</td>\n",
              "      <td>Feminino</td>\n",
              "      <td>nao</td>\n",
              "      <td>sab</td>\n",
              "      <td>jantar</td>\n",
              "      <td>2</td>\n",
              "      <td>37</td>\n",
              "    </tr>\n",
              "    <tr>\n",
              "      <th>32</th>\n",
              "      <td>15.06</td>\n",
              "      <td>3.00</td>\n",
              "      <td>Feminino</td>\n",
              "      <td>nao</td>\n",
              "      <td>sab</td>\n",
              "      <td>jantar</td>\n",
              "      <td>2</td>\n",
              "      <td>42</td>\n",
              "    </tr>\n",
              "    <tr>\n",
              "      <th>33</th>\n",
              "      <td>20.69</td>\n",
              "      <td>2.45</td>\n",
              "      <td>Feminino</td>\n",
              "      <td>nao</td>\n",
              "      <td>sab</td>\n",
              "      <td>jantar</td>\n",
              "      <td>4</td>\n",
              "      <td>42</td>\n",
              "    </tr>\n",
              "    <tr>\n",
              "      <th>37</th>\n",
              "      <td>16.93</td>\n",
              "      <td>3.07</td>\n",
              "      <td>Feminino</td>\n",
              "      <td>nao</td>\n",
              "      <td>sab</td>\n",
              "      <td>jantar</td>\n",
              "      <td>3</td>\n",
              "      <td>41</td>\n",
              "    </tr>\n",
              "    <tr>\n",
              "      <th>51</th>\n",
              "      <td>10.29</td>\n",
              "      <td>2.60</td>\n",
              "      <td>Feminino</td>\n",
              "      <td>nao</td>\n",
              "      <td>dom</td>\n",
              "      <td>jantar</td>\n",
              "      <td>2</td>\n",
              "      <td>42</td>\n",
              "    </tr>\n",
              "    <tr>\n",
              "      <th>52</th>\n",
              "      <td>34.81</td>\n",
              "      <td>5.20</td>\n",
              "      <td>Feminino</td>\n",
              "      <td>nao</td>\n",
              "      <td>dom</td>\n",
              "      <td>jantar</td>\n",
              "      <td>4</td>\n",
              "      <td>40</td>\n",
              "    </tr>\n",
              "    <tr>\n",
              "      <th>57</th>\n",
              "      <td>26.41</td>\n",
              "      <td>1.50</td>\n",
              "      <td>Feminino</td>\n",
              "      <td>nao</td>\n",
              "      <td>sab</td>\n",
              "      <td>jantar</td>\n",
              "      <td>2</td>\n",
              "      <td>34</td>\n",
              "    </tr>\n",
              "    <tr>\n",
              "      <th>66</th>\n",
              "      <td>16.45</td>\n",
              "      <td>2.47</td>\n",
              "      <td>Feminino</td>\n",
              "      <td>nao</td>\n",
              "      <td>sab</td>\n",
              "      <td>jantar</td>\n",
              "      <td>2</td>\n",
              "      <td>38</td>\n",
              "    </tr>\n",
              "    <tr>\n",
              "      <th>67</th>\n",
              "      <td>3.07</td>\n",
              "      <td>1.00</td>\n",
              "      <td>Feminino</td>\n",
              "      <td>sim</td>\n",
              "      <td>sab</td>\n",
              "      <td>jantar</td>\n",
              "      <td>1</td>\n",
              "      <td>48</td>\n",
              "    </tr>\n",
              "    <tr>\n",
              "      <th>71</th>\n",
              "      <td>17.07</td>\n",
              "      <td>3.00</td>\n",
              "      <td>Feminino</td>\n",
              "      <td>nao</td>\n",
              "      <td>sab</td>\n",
              "      <td>jantar</td>\n",
              "      <td>3</td>\n",
              "      <td>45</td>\n",
              "    </tr>\n",
              "    <tr>\n",
              "      <th>72</th>\n",
              "      <td>26.86</td>\n",
              "      <td>3.14</td>\n",
              "      <td>Feminino</td>\n",
              "      <td>sim</td>\n",
              "      <td>sab</td>\n",
              "      <td>jantar</td>\n",
              "      <td>2</td>\n",
              "      <td>43</td>\n",
              "    </tr>\n",
              "    <tr>\n",
              "      <th>73</th>\n",
              "      <td>25.28</td>\n",
              "      <td>5.00</td>\n",
              "      <td>Feminino</td>\n",
              "      <td>sim</td>\n",
              "      <td>sab</td>\n",
              "      <td>jantar</td>\n",
              "      <td>2</td>\n",
              "      <td>35</td>\n",
              "    </tr>\n",
              "    <tr>\n",
              "      <th>74</th>\n",
              "      <td>14.73</td>\n",
              "      <td>2.20</td>\n",
              "      <td>Feminino</td>\n",
              "      <td>nao</td>\n",
              "      <td>sab</td>\n",
              "      <td>jantar</td>\n",
              "      <td>2</td>\n",
              "      <td>43</td>\n",
              "    </tr>\n",
              "    <tr>\n",
              "      <th>82</th>\n",
              "      <td>10.07</td>\n",
              "      <td>1.83</td>\n",
              "      <td>Feminino</td>\n",
              "      <td>nao</td>\n",
              "      <td>qui</td>\n",
              "      <td>almoco</td>\n",
              "      <td>1</td>\n",
              "      <td>41</td>\n",
              "    </tr>\n",
              "    <tr>\n",
              "      <th>85</th>\n",
              "      <td>34.83</td>\n",
              "      <td>5.17</td>\n",
              "      <td>Feminino</td>\n",
              "      <td>nao</td>\n",
              "      <td>qui</td>\n",
              "      <td>almoco</td>\n",
              "      <td>4</td>\n",
              "      <td>41</td>\n",
              "    </tr>\n",
              "    <tr>\n",
              "      <th>92</th>\n",
              "      <td>5.75</td>\n",
              "      <td>1.00</td>\n",
              "      <td>Feminino</td>\n",
              "      <td>sim</td>\n",
              "      <td>sex</td>\n",
              "      <td>jantar</td>\n",
              "      <td>2</td>\n",
              "      <td>46</td>\n",
              "    </tr>\n",
              "    <tr>\n",
              "      <th>93</th>\n",
              "      <td>16.32</td>\n",
              "      <td>4.30</td>\n",
              "      <td>Feminino</td>\n",
              "      <td>sim</td>\n",
              "      <td>sex</td>\n",
              "      <td>jantar</td>\n",
              "      <td>2</td>\n",
              "      <td>36</td>\n",
              "    </tr>\n",
              "    <tr>\n",
              "      <th>94</th>\n",
              "      <td>22.75</td>\n",
              "      <td>3.25</td>\n",
              "      <td>Feminino</td>\n",
              "      <td>nao</td>\n",
              "      <td>sex</td>\n",
              "      <td>jantar</td>\n",
              "      <td>2</td>\n",
              "      <td>38</td>\n",
              "    </tr>\n",
              "    <tr>\n",
              "      <th>100</th>\n",
              "      <td>11.35</td>\n",
              "      <td>2.50</td>\n",
              "      <td>Feminino</td>\n",
              "      <td>sim</td>\n",
              "      <td>sex</td>\n",
              "      <td>jantar</td>\n",
              "      <td>2</td>\n",
              "      <td>46</td>\n",
              "    </tr>\n",
              "    <tr>\n",
              "      <th>101</th>\n",
              "      <td>15.38</td>\n",
              "      <td>3.00</td>\n",
              "      <td>Feminino</td>\n",
              "      <td>sim</td>\n",
              "      <td>sex</td>\n",
              "      <td>jantar</td>\n",
              "      <td>2</td>\n",
              "      <td>47</td>\n",
              "    </tr>\n",
              "    <tr>\n",
              "      <th>102</th>\n",
              "      <td>44.30</td>\n",
              "      <td>2.50</td>\n",
              "      <td>Feminino</td>\n",
              "      <td>sim</td>\n",
              "      <td>sab</td>\n",
              "      <td>jantar</td>\n",
              "      <td>3</td>\n",
              "      <td>45</td>\n",
              "    </tr>\n",
              "    <tr>\n",
              "      <th>103</th>\n",
              "      <td>22.42</td>\n",
              "      <td>3.48</td>\n",
              "      <td>Feminino</td>\n",
              "      <td>sim</td>\n",
              "      <td>sab</td>\n",
              "      <td>jantar</td>\n",
              "      <td>2</td>\n",
              "      <td>45</td>\n",
              "    </tr>\n",
              "    <tr>\n",
              "      <th>...</th>\n",
              "      <td>...</td>\n",
              "      <td>...</td>\n",
              "      <td>...</td>\n",
              "      <td>...</td>\n",
              "      <td>...</td>\n",
              "      <td>...</td>\n",
              "      <td>...</td>\n",
              "      <td>...</td>\n",
              "    </tr>\n",
              "    <tr>\n",
              "      <th>155</th>\n",
              "      <td>29.85</td>\n",
              "      <td>5.14</td>\n",
              "      <td>Feminino</td>\n",
              "      <td>nao</td>\n",
              "      <td>dom</td>\n",
              "      <td>jantar</td>\n",
              "      <td>5</td>\n",
              "      <td>38</td>\n",
              "    </tr>\n",
              "    <tr>\n",
              "      <th>157</th>\n",
              "      <td>25.00</td>\n",
              "      <td>3.75</td>\n",
              "      <td>Feminino</td>\n",
              "      <td>nao</td>\n",
              "      <td>dom</td>\n",
              "      <td>jantar</td>\n",
              "      <td>4</td>\n",
              "      <td>47</td>\n",
              "    </tr>\n",
              "    <tr>\n",
              "      <th>158</th>\n",
              "      <td>13.39</td>\n",
              "      <td>2.61</td>\n",
              "      <td>Feminino</td>\n",
              "      <td>nao</td>\n",
              "      <td>dom</td>\n",
              "      <td>jantar</td>\n",
              "      <td>2</td>\n",
              "      <td>40</td>\n",
              "    </tr>\n",
              "    <tr>\n",
              "      <th>162</th>\n",
              "      <td>16.21</td>\n",
              "      <td>2.00</td>\n",
              "      <td>Feminino</td>\n",
              "      <td>nao</td>\n",
              "      <td>dom</td>\n",
              "      <td>jantar</td>\n",
              "      <td>3</td>\n",
              "      <td>46</td>\n",
              "    </tr>\n",
              "    <tr>\n",
              "      <th>164</th>\n",
              "      <td>17.51</td>\n",
              "      <td>3.00</td>\n",
              "      <td>Feminino</td>\n",
              "      <td>sim</td>\n",
              "      <td>dom</td>\n",
              "      <td>jantar</td>\n",
              "      <td>2</td>\n",
              "      <td>39</td>\n",
              "    </tr>\n",
              "    <tr>\n",
              "      <th>168</th>\n",
              "      <td>10.59</td>\n",
              "      <td>1.61</td>\n",
              "      <td>Feminino</td>\n",
              "      <td>sim</td>\n",
              "      <td>sab</td>\n",
              "      <td>jantar</td>\n",
              "      <td>2</td>\n",
              "      <td>39</td>\n",
              "    </tr>\n",
              "    <tr>\n",
              "      <th>169</th>\n",
              "      <td>10.63</td>\n",
              "      <td>2.00</td>\n",
              "      <td>Feminino</td>\n",
              "      <td>sim</td>\n",
              "      <td>sab</td>\n",
              "      <td>jantar</td>\n",
              "      <td>2</td>\n",
              "      <td>29</td>\n",
              "    </tr>\n",
              "    <tr>\n",
              "      <th>178</th>\n",
              "      <td>9.60</td>\n",
              "      <td>4.00</td>\n",
              "      <td>Feminino</td>\n",
              "      <td>sim</td>\n",
              "      <td>dom</td>\n",
              "      <td>jantar</td>\n",
              "      <td>2</td>\n",
              "      <td>36</td>\n",
              "    </tr>\n",
              "    <tr>\n",
              "      <th>186</th>\n",
              "      <td>20.90</td>\n",
              "      <td>3.50</td>\n",
              "      <td>Feminino</td>\n",
              "      <td>sim</td>\n",
              "      <td>dom</td>\n",
              "      <td>jantar</td>\n",
              "      <td>3</td>\n",
              "      <td>34</td>\n",
              "    </tr>\n",
              "    <tr>\n",
              "      <th>188</th>\n",
              "      <td>18.15</td>\n",
              "      <td>3.50</td>\n",
              "      <td>Feminino</td>\n",
              "      <td>sim</td>\n",
              "      <td>dom</td>\n",
              "      <td>jantar</td>\n",
              "      <td>3</td>\n",
              "      <td>44</td>\n",
              "    </tr>\n",
              "    <tr>\n",
              "      <th>191</th>\n",
              "      <td>19.81</td>\n",
              "      <td>4.19</td>\n",
              "      <td>Feminino</td>\n",
              "      <td>sim</td>\n",
              "      <td>qui</td>\n",
              "      <td>almoco</td>\n",
              "      <td>2</td>\n",
              "      <td>32</td>\n",
              "    </tr>\n",
              "    <tr>\n",
              "      <th>197</th>\n",
              "      <td>43.11</td>\n",
              "      <td>5.00</td>\n",
              "      <td>Feminino</td>\n",
              "      <td>sim</td>\n",
              "      <td>qui</td>\n",
              "      <td>almoco</td>\n",
              "      <td>4</td>\n",
              "      <td>39</td>\n",
              "    </tr>\n",
              "    <tr>\n",
              "      <th>198</th>\n",
              "      <td>13.00</td>\n",
              "      <td>2.00</td>\n",
              "      <td>Feminino</td>\n",
              "      <td>sim</td>\n",
              "      <td>qui</td>\n",
              "      <td>almoco</td>\n",
              "      <td>2</td>\n",
              "      <td>40</td>\n",
              "    </tr>\n",
              "    <tr>\n",
              "      <th>201</th>\n",
              "      <td>12.74</td>\n",
              "      <td>2.01</td>\n",
              "      <td>Feminino</td>\n",
              "      <td>sim</td>\n",
              "      <td>qui</td>\n",
              "      <td>almoco</td>\n",
              "      <td>2</td>\n",
              "      <td>49</td>\n",
              "    </tr>\n",
              "    <tr>\n",
              "      <th>202</th>\n",
              "      <td>13.00</td>\n",
              "      <td>2.00</td>\n",
              "      <td>Feminino</td>\n",
              "      <td>sim</td>\n",
              "      <td>qui</td>\n",
              "      <td>almoco</td>\n",
              "      <td>2</td>\n",
              "      <td>43</td>\n",
              "    </tr>\n",
              "    <tr>\n",
              "      <th>203</th>\n",
              "      <td>16.40</td>\n",
              "      <td>2.50</td>\n",
              "      <td>Feminino</td>\n",
              "      <td>sim</td>\n",
              "      <td>qui</td>\n",
              "      <td>almoco</td>\n",
              "      <td>2</td>\n",
              "      <td>53</td>\n",
              "    </tr>\n",
              "    <tr>\n",
              "      <th>205</th>\n",
              "      <td>16.47</td>\n",
              "      <td>3.23</td>\n",
              "      <td>Feminino</td>\n",
              "      <td>sim</td>\n",
              "      <td>qui</td>\n",
              "      <td>almoco</td>\n",
              "      <td>3</td>\n",
              "      <td>43</td>\n",
              "    </tr>\n",
              "    <tr>\n",
              "      <th>209</th>\n",
              "      <td>12.76</td>\n",
              "      <td>2.23</td>\n",
              "      <td>Feminino</td>\n",
              "      <td>sim</td>\n",
              "      <td>sab</td>\n",
              "      <td>jantar</td>\n",
              "      <td>2</td>\n",
              "      <td>45</td>\n",
              "    </tr>\n",
              "    <tr>\n",
              "      <th>213</th>\n",
              "      <td>13.27</td>\n",
              "      <td>2.50</td>\n",
              "      <td>Feminino</td>\n",
              "      <td>sim</td>\n",
              "      <td>sab</td>\n",
              "      <td>jantar</td>\n",
              "      <td>2</td>\n",
              "      <td>46</td>\n",
              "    </tr>\n",
              "    <tr>\n",
              "      <th>214</th>\n",
              "      <td>28.17</td>\n",
              "      <td>6.50</td>\n",
              "      <td>Feminino</td>\n",
              "      <td>sim</td>\n",
              "      <td>sab</td>\n",
              "      <td>jantar</td>\n",
              "      <td>3</td>\n",
              "      <td>38</td>\n",
              "    </tr>\n",
              "    <tr>\n",
              "      <th>215</th>\n",
              "      <td>12.90</td>\n",
              "      <td>1.10</td>\n",
              "      <td>Feminino</td>\n",
              "      <td>sim</td>\n",
              "      <td>sab</td>\n",
              "      <td>jantar</td>\n",
              "      <td>2</td>\n",
              "      <td>38</td>\n",
              "    </tr>\n",
              "    <tr>\n",
              "      <th>219</th>\n",
              "      <td>30.14</td>\n",
              "      <td>3.09</td>\n",
              "      <td>Feminino</td>\n",
              "      <td>sim</td>\n",
              "      <td>sab</td>\n",
              "      <td>jantar</td>\n",
              "      <td>4</td>\n",
              "      <td>41</td>\n",
              "    </tr>\n",
              "    <tr>\n",
              "      <th>221</th>\n",
              "      <td>13.42</td>\n",
              "      <td>3.48</td>\n",
              "      <td>Feminino</td>\n",
              "      <td>sim</td>\n",
              "      <td>sex</td>\n",
              "      <td>almoco</td>\n",
              "      <td>2</td>\n",
              "      <td>41</td>\n",
              "    </tr>\n",
              "    <tr>\n",
              "      <th>223</th>\n",
              "      <td>15.98</td>\n",
              "      <td>3.00</td>\n",
              "      <td>Feminino</td>\n",
              "      <td>nao</td>\n",
              "      <td>sex</td>\n",
              "      <td>almoco</td>\n",
              "      <td>3</td>\n",
              "      <td>40</td>\n",
              "    </tr>\n",
              "    <tr>\n",
              "      <th>225</th>\n",
              "      <td>16.27</td>\n",
              "      <td>2.50</td>\n",
              "      <td>Feminino</td>\n",
              "      <td>sim</td>\n",
              "      <td>sex</td>\n",
              "      <td>almoco</td>\n",
              "      <td>2</td>\n",
              "      <td>50</td>\n",
              "    </tr>\n",
              "    <tr>\n",
              "      <th>226</th>\n",
              "      <td>10.09</td>\n",
              "      <td>2.00</td>\n",
              "      <td>Feminino</td>\n",
              "      <td>sim</td>\n",
              "      <td>sex</td>\n",
              "      <td>almoco</td>\n",
              "      <td>2</td>\n",
              "      <td>51</td>\n",
              "    </tr>\n",
              "    <tr>\n",
              "      <th>229</th>\n",
              "      <td>22.12</td>\n",
              "      <td>2.88</td>\n",
              "      <td>Feminino</td>\n",
              "      <td>sim</td>\n",
              "      <td>sab</td>\n",
              "      <td>jantar</td>\n",
              "      <td>2</td>\n",
              "      <td>42</td>\n",
              "    </tr>\n",
              "    <tr>\n",
              "      <th>238</th>\n",
              "      <td>35.83</td>\n",
              "      <td>4.67</td>\n",
              "      <td>Feminino</td>\n",
              "      <td>nao</td>\n",
              "      <td>sab</td>\n",
              "      <td>jantar</td>\n",
              "      <td>3</td>\n",
              "      <td>42</td>\n",
              "    </tr>\n",
              "    <tr>\n",
              "      <th>240</th>\n",
              "      <td>27.18</td>\n",
              "      <td>2.00</td>\n",
              "      <td>Feminino</td>\n",
              "      <td>sim</td>\n",
              "      <td>sab</td>\n",
              "      <td>jantar</td>\n",
              "      <td>2</td>\n",
              "      <td>35</td>\n",
              "    </tr>\n",
              "    <tr>\n",
              "      <th>243</th>\n",
              "      <td>18.78</td>\n",
              "      <td>3.00</td>\n",
              "      <td>Feminino</td>\n",
              "      <td>nao</td>\n",
              "      <td>qui</td>\n",
              "      <td>jantar</td>\n",
              "      <td>2</td>\n",
              "      <td>40</td>\n",
              "    </tr>\n",
              "  </tbody>\n",
              "</table>\n",
              "<p>87 rows × 8 columns</p>\n",
              "</div>"
            ],
            "text/plain": [
              "     total_conta  gorjeta    genero fumante  dia horario  pessoas_mesa  \\\n",
              "0          16.99     1.01  Feminino     nao  dom  jantar             2   \n",
              "4          24.59     3.61  Feminino     nao  dom  jantar             4   \n",
              "11         35.26     5.00  Feminino     nao  dom  jantar             4   \n",
              "14         14.83     3.02  Feminino     nao  dom  jantar             2   \n",
              "16         10.33     1.67  Feminino     nao  dom  jantar             3   \n",
              "18         16.97     3.50  Feminino     nao  dom  jantar             3   \n",
              "21         20.29     2.75  Feminino     nao  sab  jantar             2   \n",
              "22         15.77     2.23  Feminino     nao  sab  jantar             2   \n",
              "29         19.65     3.00  Feminino     nao  sab  jantar             2   \n",
              "32         15.06     3.00  Feminino     nao  sab  jantar             2   \n",
              "33         20.69     2.45  Feminino     nao  sab  jantar             4   \n",
              "37         16.93     3.07  Feminino     nao  sab  jantar             3   \n",
              "51         10.29     2.60  Feminino     nao  dom  jantar             2   \n",
              "52         34.81     5.20  Feminino     nao  dom  jantar             4   \n",
              "57         26.41     1.50  Feminino     nao  sab  jantar             2   \n",
              "66         16.45     2.47  Feminino     nao  sab  jantar             2   \n",
              "67          3.07     1.00  Feminino     sim  sab  jantar             1   \n",
              "71         17.07     3.00  Feminino     nao  sab  jantar             3   \n",
              "72         26.86     3.14  Feminino     sim  sab  jantar             2   \n",
              "73         25.28     5.00  Feminino     sim  sab  jantar             2   \n",
              "74         14.73     2.20  Feminino     nao  sab  jantar             2   \n",
              "82         10.07     1.83  Feminino     nao  qui  almoco             1   \n",
              "85         34.83     5.17  Feminino     nao  qui  almoco             4   \n",
              "92          5.75     1.00  Feminino     sim  sex  jantar             2   \n",
              "93         16.32     4.30  Feminino     sim  sex  jantar             2   \n",
              "94         22.75     3.25  Feminino     nao  sex  jantar             2   \n",
              "100        11.35     2.50  Feminino     sim  sex  jantar             2   \n",
              "101        15.38     3.00  Feminino     sim  sex  jantar             2   \n",
              "102        44.30     2.50  Feminino     sim  sab  jantar             3   \n",
              "103        22.42     3.48  Feminino     sim  sab  jantar             2   \n",
              "..           ...      ...       ...     ...  ...     ...           ...   \n",
              "155        29.85     5.14  Feminino     nao  dom  jantar             5   \n",
              "157        25.00     3.75  Feminino     nao  dom  jantar             4   \n",
              "158        13.39     2.61  Feminino     nao  dom  jantar             2   \n",
              "162        16.21     2.00  Feminino     nao  dom  jantar             3   \n",
              "164        17.51     3.00  Feminino     sim  dom  jantar             2   \n",
              "168        10.59     1.61  Feminino     sim  sab  jantar             2   \n",
              "169        10.63     2.00  Feminino     sim  sab  jantar             2   \n",
              "178         9.60     4.00  Feminino     sim  dom  jantar             2   \n",
              "186        20.90     3.50  Feminino     sim  dom  jantar             3   \n",
              "188        18.15     3.50  Feminino     sim  dom  jantar             3   \n",
              "191        19.81     4.19  Feminino     sim  qui  almoco             2   \n",
              "197        43.11     5.00  Feminino     sim  qui  almoco             4   \n",
              "198        13.00     2.00  Feminino     sim  qui  almoco             2   \n",
              "201        12.74     2.01  Feminino     sim  qui  almoco             2   \n",
              "202        13.00     2.00  Feminino     sim  qui  almoco             2   \n",
              "203        16.40     2.50  Feminino     sim  qui  almoco             2   \n",
              "205        16.47     3.23  Feminino     sim  qui  almoco             3   \n",
              "209        12.76     2.23  Feminino     sim  sab  jantar             2   \n",
              "213        13.27     2.50  Feminino     sim  sab  jantar             2   \n",
              "214        28.17     6.50  Feminino     sim  sab  jantar             3   \n",
              "215        12.90     1.10  Feminino     sim  sab  jantar             2   \n",
              "219        30.14     3.09  Feminino     sim  sab  jantar             4   \n",
              "221        13.42     3.48  Feminino     sim  sex  almoco             2   \n",
              "223        15.98     3.00  Feminino     nao  sex  almoco             3   \n",
              "225        16.27     2.50  Feminino     sim  sex  almoco             2   \n",
              "226        10.09     2.00  Feminino     sim  sex  almoco             2   \n",
              "229        22.12     2.88  Feminino     sim  sab  jantar             2   \n",
              "238        35.83     4.67  Feminino     nao  sab  jantar             3   \n",
              "240        27.18     2.00  Feminino     sim  sab  jantar             2   \n",
              "243        18.78     3.00  Feminino     nao  qui  jantar             2   \n",
              "\n",
              "     tempo_permanencia  \n",
              "0                   41  \n",
              "4                   34  \n",
              "11                  38  \n",
              "14                  42  \n",
              "16                  35  \n",
              "18                  48  \n",
              "21                  44  \n",
              "22                  50  \n",
              "29                  37  \n",
              "32                  42  \n",
              "33                  42  \n",
              "37                  41  \n",
              "51                  42  \n",
              "52                  40  \n",
              "57                  34  \n",
              "66                  38  \n",
              "67                  48  \n",
              "71                  45  \n",
              "72                  43  \n",
              "73                  35  \n",
              "74                  43  \n",
              "82                  41  \n",
              "85                  41  \n",
              "92                  46  \n",
              "93                  36  \n",
              "94                  38  \n",
              "100                 46  \n",
              "101                 47  \n",
              "102                 45  \n",
              "103                 45  \n",
              "..                 ...  \n",
              "155                 38  \n",
              "157                 47  \n",
              "158                 40  \n",
              "162                 46  \n",
              "164                 39  \n",
              "168                 39  \n",
              "169                 29  \n",
              "178                 36  \n",
              "186                 34  \n",
              "188                 44  \n",
              "191                 32  \n",
              "197                 39  \n",
              "198                 40  \n",
              "201                 49  \n",
              "202                 43  \n",
              "203                 53  \n",
              "205                 43  \n",
              "209                 45  \n",
              "213                 46  \n",
              "214                 38  \n",
              "215                 38  \n",
              "219                 41  \n",
              "221                 41  \n",
              "223                 40  \n",
              "225                 50  \n",
              "226                 51  \n",
              "229                 42  \n",
              "238                 42  \n",
              "240                 35  \n",
              "243                 40  \n",
              "\n",
              "[87 rows x 8 columns]"
            ]
          },
          "metadata": {
            "tags": []
          },
          "execution_count": 13
        }
      ]
    },
    {
      "metadata": {
        "id": "6c4R-qhhjBI2",
        "colab_type": "text"
      },
      "cell_type": "markdown",
      "source": [
        "### Desafio: Média"
      ]
    },
    {
      "metadata": {
        "id": "nAl5FPCrjBI3",
        "colab_type": "text"
      },
      "cell_type": "markdown",
      "source": [
        "#### 1. Mostre a média da coluna gorjetas."
      ]
    },
    {
      "metadata": {
        "id": "ZkufMi8TjBI3",
        "colab_type": "code",
        "outputId": "215c0d80-3ce2-4a67-8674-e79eacd1634d",
        "colab": {
          "base_uri": "https://localhost:8080/",
          "height": 34
        }
      },
      "cell_type": "code",
      "source": [
        "tips_data['gorjeta'].mean()"
      ],
      "execution_count": 0,
      "outputs": [
        {
          "output_type": "execute_result",
          "data": {
            "text/plain": [
              "2.9982786885245902"
            ]
          },
          "metadata": {
            "tags": []
          },
          "execution_count": 14
        }
      ]
    },
    {
      "metadata": {
        "id": "Ml13168FjBI8",
        "colab_type": "text"
      },
      "cell_type": "markdown",
      "source": [
        "#### 2. Escolha uma coluna quantitativa e mostre a média."
      ]
    },
    {
      "metadata": {
        "id": "HYzG9-yjjBI-",
        "colab_type": "code",
        "outputId": "ecab0ab4-e26f-48e2-ecd1-0f189ea4fd47",
        "colab": {
          "base_uri": "https://localhost:8080/"
        }
      },
      "cell_type": "code",
      "source": [
        "tips_data['total_conta'].mean()"
      ],
      "execution_count": 0,
      "outputs": [
        {
          "output_type": "execute_result",
          "data": {
            "text/plain": [
              "19.785942622950824"
            ]
          },
          "metadata": {
            "tags": []
          },
          "execution_count": 15
        }
      ]
    },
    {
      "metadata": {
        "id": "jT4Quyz_jBJB",
        "colab_type": "text"
      },
      "cell_type": "markdown",
      "source": [
        "#### 3. Como fazer para mostrar a média de todas as colunas quantitativas ao mesmo tempo? Mostra pra gente!"
      ]
    },
    {
      "metadata": {
        "id": "7iqz5k_ujBJC",
        "colab_type": "code",
        "outputId": "ce8a40bc-503b-461a-b101-7f9b78773c8c",
        "colab": {
          "base_uri": "https://localhost:8080/"
        }
      },
      "cell_type": "code",
      "source": [
        "tips_data.mean()"
      ],
      "execution_count": 0,
      "outputs": [
        {
          "output_type": "execute_result",
          "data": {
            "text/plain": [
              "total_conta          19.785943\n",
              "gorjeta               2.998279\n",
              "pessoas_mesa          2.569672\n",
              "tempo_permanencia    40.262295\n",
              "dtype: float64"
            ]
          },
          "metadata": {
            "tags": []
          },
          "execution_count": 16
        }
      ]
    },
    {
      "metadata": {
        "id": "wblilyxgjBJF",
        "colab_type": "text"
      },
      "cell_type": "markdown",
      "source": [
        "### Desafio: Moda"
      ]
    },
    {
      "metadata": {
        "id": "ktP5d9CjjBJG",
        "colab_type": "text"
      },
      "cell_type": "markdown",
      "source": [
        "#### 1. Quem mais frequenta o restaurante que estamos analisando, homens ou mulheres?"
      ]
    },
    {
      "metadata": {
        "id": "-32DAhgOjBJH",
        "colab_type": "code",
        "outputId": "0730df58-6714-49b9-d33f-7f7d85c7af11",
        "colab": {
          "base_uri": "https://localhost:8080/",
          "height": 51
        }
      },
      "cell_type": "code",
      "source": [
        "tips_data['genero'].mode()"
      ],
      "execution_count": 0,
      "outputs": [
        {
          "output_type": "execute_result",
          "data": {
            "text/plain": [
              "0    Masculino\n",
              "dtype: object"
            ]
          },
          "metadata": {
            "tags": []
          },
          "execution_count": 17
        }
      ]
    },
    {
      "metadata": {
        "id": "iZf1-YzfjBJL",
        "colab_type": "text"
      },
      "cell_type": "markdown",
      "source": [
        "#### 2. Qual é o dia preferido para os clientes irem ao restaurante?"
      ]
    },
    {
      "metadata": {
        "id": "sS6WrqOzjBJM",
        "colab_type": "code",
        "outputId": "25b1c6a7-5dac-4657-b49c-fc8c76c9da24",
        "colab": {
          "base_uri": "https://localhost:8080/"
        }
      },
      "cell_type": "code",
      "source": [
        "tips_data['dia'].mode()"
      ],
      "execution_count": 0,
      "outputs": [
        {
          "output_type": "execute_result",
          "data": {
            "text/plain": [
              "0    sab\n",
              "dtype: object"
            ]
          },
          "metadata": {
            "tags": []
          },
          "execution_count": 18
        }
      ]
    },
    {
      "metadata": {
        "id": "bMlOTA2rjBJP",
        "colab_type": "code",
        "outputId": "81ca86d5-6533-4027-eecc-6d74f1aba98d",
        "colab": {
          "base_uri": "https://localhost:8080/"
        }
      },
      "cell_type": "code",
      "source": [
        "tips_data"
      ],
      "execution_count": 0,
      "outputs": [
        {
          "output_type": "execute_result",
          "data": {
            "text/html": [
              "<div>\n",
              "<style scoped>\n",
              "    .dataframe tbody tr th:only-of-type {\n",
              "        vertical-align: middle;\n",
              "    }\n",
              "\n",
              "    .dataframe tbody tr th {\n",
              "        vertical-align: top;\n",
              "    }\n",
              "\n",
              "    .dataframe thead th {\n",
              "        text-align: right;\n",
              "    }\n",
              "</style>\n",
              "<table border=\"1\" class=\"dataframe\">\n",
              "  <thead>\n",
              "    <tr style=\"text-align: right;\">\n",
              "      <th></th>\n",
              "      <th>total_conta</th>\n",
              "      <th>gorjeta</th>\n",
              "      <th>genero</th>\n",
              "      <th>fumante</th>\n",
              "      <th>dia</th>\n",
              "      <th>horario</th>\n",
              "      <th>pessoas_mesa</th>\n",
              "      <th>tempo_permanencia</th>\n",
              "    </tr>\n",
              "  </thead>\n",
              "  <tbody>\n",
              "    <tr>\n",
              "      <th>0</th>\n",
              "      <td>16.99</td>\n",
              "      <td>1.01</td>\n",
              "      <td>Feminino</td>\n",
              "      <td>nao</td>\n",
              "      <td>dom</td>\n",
              "      <td>jantar</td>\n",
              "      <td>2</td>\n",
              "      <td>41</td>\n",
              "    </tr>\n",
              "    <tr>\n",
              "      <th>1</th>\n",
              "      <td>10.34</td>\n",
              "      <td>1.66</td>\n",
              "      <td>Masculino</td>\n",
              "      <td>nao</td>\n",
              "      <td>dom</td>\n",
              "      <td>jantar</td>\n",
              "      <td>3</td>\n",
              "      <td>40</td>\n",
              "    </tr>\n",
              "    <tr>\n",
              "      <th>2</th>\n",
              "      <td>21.01</td>\n",
              "      <td>3.50</td>\n",
              "      <td>Masculino</td>\n",
              "      <td>nao</td>\n",
              "      <td>dom</td>\n",
              "      <td>jantar</td>\n",
              "      <td>3</td>\n",
              "      <td>49</td>\n",
              "    </tr>\n",
              "    <tr>\n",
              "      <th>3</th>\n",
              "      <td>23.68</td>\n",
              "      <td>3.31</td>\n",
              "      <td>Masculino</td>\n",
              "      <td>nao</td>\n",
              "      <td>dom</td>\n",
              "      <td>jantar</td>\n",
              "      <td>2</td>\n",
              "      <td>43</td>\n",
              "    </tr>\n",
              "    <tr>\n",
              "      <th>4</th>\n",
              "      <td>24.59</td>\n",
              "      <td>3.61</td>\n",
              "      <td>Feminino</td>\n",
              "      <td>nao</td>\n",
              "      <td>dom</td>\n",
              "      <td>jantar</td>\n",
              "      <td>4</td>\n",
              "      <td>34</td>\n",
              "    </tr>\n",
              "    <tr>\n",
              "      <th>5</th>\n",
              "      <td>25.29</td>\n",
              "      <td>4.71</td>\n",
              "      <td>Masculino</td>\n",
              "      <td>nao</td>\n",
              "      <td>dom</td>\n",
              "      <td>jantar</td>\n",
              "      <td>4</td>\n",
              "      <td>39</td>\n",
              "    </tr>\n",
              "    <tr>\n",
              "      <th>6</th>\n",
              "      <td>8.77</td>\n",
              "      <td>2.00</td>\n",
              "      <td>Masculino</td>\n",
              "      <td>nao</td>\n",
              "      <td>dom</td>\n",
              "      <td>jantar</td>\n",
              "      <td>2</td>\n",
              "      <td>41</td>\n",
              "    </tr>\n",
              "    <tr>\n",
              "      <th>7</th>\n",
              "      <td>26.88</td>\n",
              "      <td>3.12</td>\n",
              "      <td>Masculino</td>\n",
              "      <td>nao</td>\n",
              "      <td>dom</td>\n",
              "      <td>jantar</td>\n",
              "      <td>4</td>\n",
              "      <td>31</td>\n",
              "    </tr>\n",
              "    <tr>\n",
              "      <th>8</th>\n",
              "      <td>15.04</td>\n",
              "      <td>1.96</td>\n",
              "      <td>Masculino</td>\n",
              "      <td>nao</td>\n",
              "      <td>dom</td>\n",
              "      <td>jantar</td>\n",
              "      <td>2</td>\n",
              "      <td>35</td>\n",
              "    </tr>\n",
              "    <tr>\n",
              "      <th>9</th>\n",
              "      <td>14.78</td>\n",
              "      <td>3.23</td>\n",
              "      <td>Masculino</td>\n",
              "      <td>nao</td>\n",
              "      <td>dom</td>\n",
              "      <td>jantar</td>\n",
              "      <td>2</td>\n",
              "      <td>41</td>\n",
              "    </tr>\n",
              "    <tr>\n",
              "      <th>10</th>\n",
              "      <td>10.27</td>\n",
              "      <td>1.71</td>\n",
              "      <td>Masculino</td>\n",
              "      <td>nao</td>\n",
              "      <td>dom</td>\n",
              "      <td>jantar</td>\n",
              "      <td>2</td>\n",
              "      <td>40</td>\n",
              "    </tr>\n",
              "    <tr>\n",
              "      <th>11</th>\n",
              "      <td>35.26</td>\n",
              "      <td>5.00</td>\n",
              "      <td>Feminino</td>\n",
              "      <td>nao</td>\n",
              "      <td>dom</td>\n",
              "      <td>jantar</td>\n",
              "      <td>4</td>\n",
              "      <td>38</td>\n",
              "    </tr>\n",
              "    <tr>\n",
              "      <th>12</th>\n",
              "      <td>15.42</td>\n",
              "      <td>1.57</td>\n",
              "      <td>Masculino</td>\n",
              "      <td>nao</td>\n",
              "      <td>dom</td>\n",
              "      <td>jantar</td>\n",
              "      <td>2</td>\n",
              "      <td>34</td>\n",
              "    </tr>\n",
              "    <tr>\n",
              "      <th>13</th>\n",
              "      <td>18.43</td>\n",
              "      <td>3.00</td>\n",
              "      <td>Masculino</td>\n",
              "      <td>nao</td>\n",
              "      <td>dom</td>\n",
              "      <td>jantar</td>\n",
              "      <td>4</td>\n",
              "      <td>36</td>\n",
              "    </tr>\n",
              "    <tr>\n",
              "      <th>14</th>\n",
              "      <td>14.83</td>\n",
              "      <td>3.02</td>\n",
              "      <td>Feminino</td>\n",
              "      <td>nao</td>\n",
              "      <td>dom</td>\n",
              "      <td>jantar</td>\n",
              "      <td>2</td>\n",
              "      <td>42</td>\n",
              "    </tr>\n",
              "    <tr>\n",
              "      <th>15</th>\n",
              "      <td>21.58</td>\n",
              "      <td>3.92</td>\n",
              "      <td>Masculino</td>\n",
              "      <td>nao</td>\n",
              "      <td>dom</td>\n",
              "      <td>jantar</td>\n",
              "      <td>2</td>\n",
              "      <td>39</td>\n",
              "    </tr>\n",
              "    <tr>\n",
              "      <th>16</th>\n",
              "      <td>10.33</td>\n",
              "      <td>1.67</td>\n",
              "      <td>Feminino</td>\n",
              "      <td>nao</td>\n",
              "      <td>dom</td>\n",
              "      <td>jantar</td>\n",
              "      <td>3</td>\n",
              "      <td>35</td>\n",
              "    </tr>\n",
              "    <tr>\n",
              "      <th>17</th>\n",
              "      <td>16.29</td>\n",
              "      <td>3.71</td>\n",
              "      <td>Masculino</td>\n",
              "      <td>nao</td>\n",
              "      <td>dom</td>\n",
              "      <td>jantar</td>\n",
              "      <td>3</td>\n",
              "      <td>40</td>\n",
              "    </tr>\n",
              "    <tr>\n",
              "      <th>18</th>\n",
              "      <td>16.97</td>\n",
              "      <td>3.50</td>\n",
              "      <td>Feminino</td>\n",
              "      <td>nao</td>\n",
              "      <td>dom</td>\n",
              "      <td>jantar</td>\n",
              "      <td>3</td>\n",
              "      <td>48</td>\n",
              "    </tr>\n",
              "    <tr>\n",
              "      <th>19</th>\n",
              "      <td>20.65</td>\n",
              "      <td>3.35</td>\n",
              "      <td>Masculino</td>\n",
              "      <td>nao</td>\n",
              "      <td>sab</td>\n",
              "      <td>jantar</td>\n",
              "      <td>3</td>\n",
              "      <td>40</td>\n",
              "    </tr>\n",
              "    <tr>\n",
              "      <th>20</th>\n",
              "      <td>17.92</td>\n",
              "      <td>4.08</td>\n",
              "      <td>Masculino</td>\n",
              "      <td>nao</td>\n",
              "      <td>sab</td>\n",
              "      <td>jantar</td>\n",
              "      <td>2</td>\n",
              "      <td>43</td>\n",
              "    </tr>\n",
              "    <tr>\n",
              "      <th>21</th>\n",
              "      <td>20.29</td>\n",
              "      <td>2.75</td>\n",
              "      <td>Feminino</td>\n",
              "      <td>nao</td>\n",
              "      <td>sab</td>\n",
              "      <td>jantar</td>\n",
              "      <td>2</td>\n",
              "      <td>44</td>\n",
              "    </tr>\n",
              "    <tr>\n",
              "      <th>22</th>\n",
              "      <td>15.77</td>\n",
              "      <td>2.23</td>\n",
              "      <td>Feminino</td>\n",
              "      <td>nao</td>\n",
              "      <td>sab</td>\n",
              "      <td>jantar</td>\n",
              "      <td>2</td>\n",
              "      <td>50</td>\n",
              "    </tr>\n",
              "    <tr>\n",
              "      <th>23</th>\n",
              "      <td>39.42</td>\n",
              "      <td>7.58</td>\n",
              "      <td>Masculino</td>\n",
              "      <td>nao</td>\n",
              "      <td>sab</td>\n",
              "      <td>jantar</td>\n",
              "      <td>4</td>\n",
              "      <td>42</td>\n",
              "    </tr>\n",
              "    <tr>\n",
              "      <th>24</th>\n",
              "      <td>19.82</td>\n",
              "      <td>3.18</td>\n",
              "      <td>Masculino</td>\n",
              "      <td>nao</td>\n",
              "      <td>sab</td>\n",
              "      <td>jantar</td>\n",
              "      <td>2</td>\n",
              "      <td>46</td>\n",
              "    </tr>\n",
              "    <tr>\n",
              "      <th>25</th>\n",
              "      <td>17.81</td>\n",
              "      <td>2.34</td>\n",
              "      <td>Masculino</td>\n",
              "      <td>nao</td>\n",
              "      <td>sab</td>\n",
              "      <td>jantar</td>\n",
              "      <td>4</td>\n",
              "      <td>37</td>\n",
              "    </tr>\n",
              "    <tr>\n",
              "      <th>26</th>\n",
              "      <td>13.37</td>\n",
              "      <td>2.00</td>\n",
              "      <td>Masculino</td>\n",
              "      <td>nao</td>\n",
              "      <td>sab</td>\n",
              "      <td>jantar</td>\n",
              "      <td>2</td>\n",
              "      <td>46</td>\n",
              "    </tr>\n",
              "    <tr>\n",
              "      <th>27</th>\n",
              "      <td>12.69</td>\n",
              "      <td>2.00</td>\n",
              "      <td>Masculino</td>\n",
              "      <td>nao</td>\n",
              "      <td>sab</td>\n",
              "      <td>jantar</td>\n",
              "      <td>2</td>\n",
              "      <td>41</td>\n",
              "    </tr>\n",
              "    <tr>\n",
              "      <th>28</th>\n",
              "      <td>21.70</td>\n",
              "      <td>4.30</td>\n",
              "      <td>Masculino</td>\n",
              "      <td>nao</td>\n",
              "      <td>sab</td>\n",
              "      <td>jantar</td>\n",
              "      <td>2</td>\n",
              "      <td>35</td>\n",
              "    </tr>\n",
              "    <tr>\n",
              "      <th>29</th>\n",
              "      <td>19.65</td>\n",
              "      <td>3.00</td>\n",
              "      <td>Feminino</td>\n",
              "      <td>nao</td>\n",
              "      <td>sab</td>\n",
              "      <td>jantar</td>\n",
              "      <td>2</td>\n",
              "      <td>37</td>\n",
              "    </tr>\n",
              "    <tr>\n",
              "      <th>...</th>\n",
              "      <td>...</td>\n",
              "      <td>...</td>\n",
              "      <td>...</td>\n",
              "      <td>...</td>\n",
              "      <td>...</td>\n",
              "      <td>...</td>\n",
              "      <td>...</td>\n",
              "      <td>...</td>\n",
              "    </tr>\n",
              "    <tr>\n",
              "      <th>214</th>\n",
              "      <td>28.17</td>\n",
              "      <td>6.50</td>\n",
              "      <td>Feminino</td>\n",
              "      <td>sim</td>\n",
              "      <td>sab</td>\n",
              "      <td>jantar</td>\n",
              "      <td>3</td>\n",
              "      <td>38</td>\n",
              "    </tr>\n",
              "    <tr>\n",
              "      <th>215</th>\n",
              "      <td>12.90</td>\n",
              "      <td>1.10</td>\n",
              "      <td>Feminino</td>\n",
              "      <td>sim</td>\n",
              "      <td>sab</td>\n",
              "      <td>jantar</td>\n",
              "      <td>2</td>\n",
              "      <td>38</td>\n",
              "    </tr>\n",
              "    <tr>\n",
              "      <th>216</th>\n",
              "      <td>28.15</td>\n",
              "      <td>3.00</td>\n",
              "      <td>Masculino</td>\n",
              "      <td>sim</td>\n",
              "      <td>sab</td>\n",
              "      <td>jantar</td>\n",
              "      <td>5</td>\n",
              "      <td>49</td>\n",
              "    </tr>\n",
              "    <tr>\n",
              "      <th>217</th>\n",
              "      <td>11.59</td>\n",
              "      <td>1.50</td>\n",
              "      <td>Masculino</td>\n",
              "      <td>sim</td>\n",
              "      <td>sab</td>\n",
              "      <td>jantar</td>\n",
              "      <td>2</td>\n",
              "      <td>42</td>\n",
              "    </tr>\n",
              "    <tr>\n",
              "      <th>218</th>\n",
              "      <td>7.74</td>\n",
              "      <td>1.44</td>\n",
              "      <td>Masculino</td>\n",
              "      <td>sim</td>\n",
              "      <td>sab</td>\n",
              "      <td>jantar</td>\n",
              "      <td>2</td>\n",
              "      <td>39</td>\n",
              "    </tr>\n",
              "    <tr>\n",
              "      <th>219</th>\n",
              "      <td>30.14</td>\n",
              "      <td>3.09</td>\n",
              "      <td>Feminino</td>\n",
              "      <td>sim</td>\n",
              "      <td>sab</td>\n",
              "      <td>jantar</td>\n",
              "      <td>4</td>\n",
              "      <td>41</td>\n",
              "    </tr>\n",
              "    <tr>\n",
              "      <th>220</th>\n",
              "      <td>12.16</td>\n",
              "      <td>2.20</td>\n",
              "      <td>Masculino</td>\n",
              "      <td>sim</td>\n",
              "      <td>sex</td>\n",
              "      <td>almoco</td>\n",
              "      <td>2</td>\n",
              "      <td>49</td>\n",
              "    </tr>\n",
              "    <tr>\n",
              "      <th>221</th>\n",
              "      <td>13.42</td>\n",
              "      <td>3.48</td>\n",
              "      <td>Feminino</td>\n",
              "      <td>sim</td>\n",
              "      <td>sex</td>\n",
              "      <td>almoco</td>\n",
              "      <td>2</td>\n",
              "      <td>41</td>\n",
              "    </tr>\n",
              "    <tr>\n",
              "      <th>222</th>\n",
              "      <td>8.58</td>\n",
              "      <td>1.92</td>\n",
              "      <td>Masculino</td>\n",
              "      <td>sim</td>\n",
              "      <td>sex</td>\n",
              "      <td>almoco</td>\n",
              "      <td>1</td>\n",
              "      <td>36</td>\n",
              "    </tr>\n",
              "    <tr>\n",
              "      <th>223</th>\n",
              "      <td>15.98</td>\n",
              "      <td>3.00</td>\n",
              "      <td>Feminino</td>\n",
              "      <td>nao</td>\n",
              "      <td>sex</td>\n",
              "      <td>almoco</td>\n",
              "      <td>3</td>\n",
              "      <td>40</td>\n",
              "    </tr>\n",
              "    <tr>\n",
              "      <th>224</th>\n",
              "      <td>13.42</td>\n",
              "      <td>1.58</td>\n",
              "      <td>Masculino</td>\n",
              "      <td>sim</td>\n",
              "      <td>sex</td>\n",
              "      <td>almoco</td>\n",
              "      <td>2</td>\n",
              "      <td>45</td>\n",
              "    </tr>\n",
              "    <tr>\n",
              "      <th>225</th>\n",
              "      <td>16.27</td>\n",
              "      <td>2.50</td>\n",
              "      <td>Feminino</td>\n",
              "      <td>sim</td>\n",
              "      <td>sex</td>\n",
              "      <td>almoco</td>\n",
              "      <td>2</td>\n",
              "      <td>50</td>\n",
              "    </tr>\n",
              "    <tr>\n",
              "      <th>226</th>\n",
              "      <td>10.09</td>\n",
              "      <td>2.00</td>\n",
              "      <td>Feminino</td>\n",
              "      <td>sim</td>\n",
              "      <td>sex</td>\n",
              "      <td>almoco</td>\n",
              "      <td>2</td>\n",
              "      <td>51</td>\n",
              "    </tr>\n",
              "    <tr>\n",
              "      <th>227</th>\n",
              "      <td>20.45</td>\n",
              "      <td>3.00</td>\n",
              "      <td>Masculino</td>\n",
              "      <td>nao</td>\n",
              "      <td>sab</td>\n",
              "      <td>jantar</td>\n",
              "      <td>4</td>\n",
              "      <td>38</td>\n",
              "    </tr>\n",
              "    <tr>\n",
              "      <th>228</th>\n",
              "      <td>13.28</td>\n",
              "      <td>2.72</td>\n",
              "      <td>Masculino</td>\n",
              "      <td>nao</td>\n",
              "      <td>sab</td>\n",
              "      <td>jantar</td>\n",
              "      <td>2</td>\n",
              "      <td>37</td>\n",
              "    </tr>\n",
              "    <tr>\n",
              "      <th>229</th>\n",
              "      <td>22.12</td>\n",
              "      <td>2.88</td>\n",
              "      <td>Feminino</td>\n",
              "      <td>sim</td>\n",
              "      <td>sab</td>\n",
              "      <td>jantar</td>\n",
              "      <td>2</td>\n",
              "      <td>42</td>\n",
              "    </tr>\n",
              "    <tr>\n",
              "      <th>230</th>\n",
              "      <td>24.01</td>\n",
              "      <td>2.00</td>\n",
              "      <td>Masculino</td>\n",
              "      <td>sim</td>\n",
              "      <td>sab</td>\n",
              "      <td>jantar</td>\n",
              "      <td>4</td>\n",
              "      <td>45</td>\n",
              "    </tr>\n",
              "    <tr>\n",
              "      <th>231</th>\n",
              "      <td>15.69</td>\n",
              "      <td>3.00</td>\n",
              "      <td>Masculino</td>\n",
              "      <td>sim</td>\n",
              "      <td>sab</td>\n",
              "      <td>jantar</td>\n",
              "      <td>3</td>\n",
              "      <td>39</td>\n",
              "    </tr>\n",
              "    <tr>\n",
              "      <th>232</th>\n",
              "      <td>11.61</td>\n",
              "      <td>3.39</td>\n",
              "      <td>Masculino</td>\n",
              "      <td>nao</td>\n",
              "      <td>sab</td>\n",
              "      <td>jantar</td>\n",
              "      <td>2</td>\n",
              "      <td>42</td>\n",
              "    </tr>\n",
              "    <tr>\n",
              "      <th>233</th>\n",
              "      <td>10.77</td>\n",
              "      <td>1.47</td>\n",
              "      <td>Masculino</td>\n",
              "      <td>nao</td>\n",
              "      <td>sab</td>\n",
              "      <td>jantar</td>\n",
              "      <td>2</td>\n",
              "      <td>35</td>\n",
              "    </tr>\n",
              "    <tr>\n",
              "      <th>234</th>\n",
              "      <td>15.53</td>\n",
              "      <td>3.00</td>\n",
              "      <td>Masculino</td>\n",
              "      <td>sim</td>\n",
              "      <td>sab</td>\n",
              "      <td>jantar</td>\n",
              "      <td>2</td>\n",
              "      <td>52</td>\n",
              "    </tr>\n",
              "    <tr>\n",
              "      <th>235</th>\n",
              "      <td>10.07</td>\n",
              "      <td>1.25</td>\n",
              "      <td>Masculino</td>\n",
              "      <td>nao</td>\n",
              "      <td>sab</td>\n",
              "      <td>jantar</td>\n",
              "      <td>2</td>\n",
              "      <td>30</td>\n",
              "    </tr>\n",
              "    <tr>\n",
              "      <th>236</th>\n",
              "      <td>12.60</td>\n",
              "      <td>1.00</td>\n",
              "      <td>Masculino</td>\n",
              "      <td>sim</td>\n",
              "      <td>sab</td>\n",
              "      <td>jantar</td>\n",
              "      <td>2</td>\n",
              "      <td>50</td>\n",
              "    </tr>\n",
              "    <tr>\n",
              "      <th>237</th>\n",
              "      <td>32.83</td>\n",
              "      <td>1.17</td>\n",
              "      <td>Masculino</td>\n",
              "      <td>sim</td>\n",
              "      <td>sab</td>\n",
              "      <td>jantar</td>\n",
              "      <td>2</td>\n",
              "      <td>38</td>\n",
              "    </tr>\n",
              "    <tr>\n",
              "      <th>238</th>\n",
              "      <td>35.83</td>\n",
              "      <td>4.67</td>\n",
              "      <td>Feminino</td>\n",
              "      <td>nao</td>\n",
              "      <td>sab</td>\n",
              "      <td>jantar</td>\n",
              "      <td>3</td>\n",
              "      <td>42</td>\n",
              "    </tr>\n",
              "    <tr>\n",
              "      <th>239</th>\n",
              "      <td>29.03</td>\n",
              "      <td>5.92</td>\n",
              "      <td>Masculino</td>\n",
              "      <td>nao</td>\n",
              "      <td>sab</td>\n",
              "      <td>jantar</td>\n",
              "      <td>3</td>\n",
              "      <td>40</td>\n",
              "    </tr>\n",
              "    <tr>\n",
              "      <th>240</th>\n",
              "      <td>27.18</td>\n",
              "      <td>2.00</td>\n",
              "      <td>Feminino</td>\n",
              "      <td>sim</td>\n",
              "      <td>sab</td>\n",
              "      <td>jantar</td>\n",
              "      <td>2</td>\n",
              "      <td>35</td>\n",
              "    </tr>\n",
              "    <tr>\n",
              "      <th>241</th>\n",
              "      <td>22.67</td>\n",
              "      <td>2.00</td>\n",
              "      <td>Masculino</td>\n",
              "      <td>sim</td>\n",
              "      <td>sab</td>\n",
              "      <td>jantar</td>\n",
              "      <td>2</td>\n",
              "      <td>30</td>\n",
              "    </tr>\n",
              "    <tr>\n",
              "      <th>242</th>\n",
              "      <td>17.82</td>\n",
              "      <td>1.75</td>\n",
              "      <td>Masculino</td>\n",
              "      <td>nao</td>\n",
              "      <td>sab</td>\n",
              "      <td>jantar</td>\n",
              "      <td>2</td>\n",
              "      <td>38</td>\n",
              "    </tr>\n",
              "    <tr>\n",
              "      <th>243</th>\n",
              "      <td>18.78</td>\n",
              "      <td>3.00</td>\n",
              "      <td>Feminino</td>\n",
              "      <td>nao</td>\n",
              "      <td>qui</td>\n",
              "      <td>jantar</td>\n",
              "      <td>2</td>\n",
              "      <td>40</td>\n",
              "    </tr>\n",
              "  </tbody>\n",
              "</table>\n",
              "<p>244 rows × 8 columns</p>\n",
              "</div>"
            ],
            "text/plain": [
              "     total_conta  gorjeta     genero fumante  dia horario  pessoas_mesa  \\\n",
              "0          16.99     1.01   Feminino     nao  dom  jantar             2   \n",
              "1          10.34     1.66  Masculino     nao  dom  jantar             3   \n",
              "2          21.01     3.50  Masculino     nao  dom  jantar             3   \n",
              "3          23.68     3.31  Masculino     nao  dom  jantar             2   \n",
              "4          24.59     3.61   Feminino     nao  dom  jantar             4   \n",
              "5          25.29     4.71  Masculino     nao  dom  jantar             4   \n",
              "6           8.77     2.00  Masculino     nao  dom  jantar             2   \n",
              "7          26.88     3.12  Masculino     nao  dom  jantar             4   \n",
              "8          15.04     1.96  Masculino     nao  dom  jantar             2   \n",
              "9          14.78     3.23  Masculino     nao  dom  jantar             2   \n",
              "10         10.27     1.71  Masculino     nao  dom  jantar             2   \n",
              "11         35.26     5.00   Feminino     nao  dom  jantar             4   \n",
              "12         15.42     1.57  Masculino     nao  dom  jantar             2   \n",
              "13         18.43     3.00  Masculino     nao  dom  jantar             4   \n",
              "14         14.83     3.02   Feminino     nao  dom  jantar             2   \n",
              "15         21.58     3.92  Masculino     nao  dom  jantar             2   \n",
              "16         10.33     1.67   Feminino     nao  dom  jantar             3   \n",
              "17         16.29     3.71  Masculino     nao  dom  jantar             3   \n",
              "18         16.97     3.50   Feminino     nao  dom  jantar             3   \n",
              "19         20.65     3.35  Masculino     nao  sab  jantar             3   \n",
              "20         17.92     4.08  Masculino     nao  sab  jantar             2   \n",
              "21         20.29     2.75   Feminino     nao  sab  jantar             2   \n",
              "22         15.77     2.23   Feminino     nao  sab  jantar             2   \n",
              "23         39.42     7.58  Masculino     nao  sab  jantar             4   \n",
              "24         19.82     3.18  Masculino     nao  sab  jantar             2   \n",
              "25         17.81     2.34  Masculino     nao  sab  jantar             4   \n",
              "26         13.37     2.00  Masculino     nao  sab  jantar             2   \n",
              "27         12.69     2.00  Masculino     nao  sab  jantar             2   \n",
              "28         21.70     4.30  Masculino     nao  sab  jantar             2   \n",
              "29         19.65     3.00   Feminino     nao  sab  jantar             2   \n",
              "..           ...      ...        ...     ...  ...     ...           ...   \n",
              "214        28.17     6.50   Feminino     sim  sab  jantar             3   \n",
              "215        12.90     1.10   Feminino     sim  sab  jantar             2   \n",
              "216        28.15     3.00  Masculino     sim  sab  jantar             5   \n",
              "217        11.59     1.50  Masculino     sim  sab  jantar             2   \n",
              "218         7.74     1.44  Masculino     sim  sab  jantar             2   \n",
              "219        30.14     3.09   Feminino     sim  sab  jantar             4   \n",
              "220        12.16     2.20  Masculino     sim  sex  almoco             2   \n",
              "221        13.42     3.48   Feminino     sim  sex  almoco             2   \n",
              "222         8.58     1.92  Masculino     sim  sex  almoco             1   \n",
              "223        15.98     3.00   Feminino     nao  sex  almoco             3   \n",
              "224        13.42     1.58  Masculino     sim  sex  almoco             2   \n",
              "225        16.27     2.50   Feminino     sim  sex  almoco             2   \n",
              "226        10.09     2.00   Feminino     sim  sex  almoco             2   \n",
              "227        20.45     3.00  Masculino     nao  sab  jantar             4   \n",
              "228        13.28     2.72  Masculino     nao  sab  jantar             2   \n",
              "229        22.12     2.88   Feminino     sim  sab  jantar             2   \n",
              "230        24.01     2.00  Masculino     sim  sab  jantar             4   \n",
              "231        15.69     3.00  Masculino     sim  sab  jantar             3   \n",
              "232        11.61     3.39  Masculino     nao  sab  jantar             2   \n",
              "233        10.77     1.47  Masculino     nao  sab  jantar             2   \n",
              "234        15.53     3.00  Masculino     sim  sab  jantar             2   \n",
              "235        10.07     1.25  Masculino     nao  sab  jantar             2   \n",
              "236        12.60     1.00  Masculino     sim  sab  jantar             2   \n",
              "237        32.83     1.17  Masculino     sim  sab  jantar             2   \n",
              "238        35.83     4.67   Feminino     nao  sab  jantar             3   \n",
              "239        29.03     5.92  Masculino     nao  sab  jantar             3   \n",
              "240        27.18     2.00   Feminino     sim  sab  jantar             2   \n",
              "241        22.67     2.00  Masculino     sim  sab  jantar             2   \n",
              "242        17.82     1.75  Masculino     nao  sab  jantar             2   \n",
              "243        18.78     3.00   Feminino     nao  qui  jantar             2   \n",
              "\n",
              "     tempo_permanencia  \n",
              "0                   41  \n",
              "1                   40  \n",
              "2                   49  \n",
              "3                   43  \n",
              "4                   34  \n",
              "5                   39  \n",
              "6                   41  \n",
              "7                   31  \n",
              "8                   35  \n",
              "9                   41  \n",
              "10                  40  \n",
              "11                  38  \n",
              "12                  34  \n",
              "13                  36  \n",
              "14                  42  \n",
              "15                  39  \n",
              "16                  35  \n",
              "17                  40  \n",
              "18                  48  \n",
              "19                  40  \n",
              "20                  43  \n",
              "21                  44  \n",
              "22                  50  \n",
              "23                  42  \n",
              "24                  46  \n",
              "25                  37  \n",
              "26                  46  \n",
              "27                  41  \n",
              "28                  35  \n",
              "29                  37  \n",
              "..                 ...  \n",
              "214                 38  \n",
              "215                 38  \n",
              "216                 49  \n",
              "217                 42  \n",
              "218                 39  \n",
              "219                 41  \n",
              "220                 49  \n",
              "221                 41  \n",
              "222                 36  \n",
              "223                 40  \n",
              "224                 45  \n",
              "225                 50  \n",
              "226                 51  \n",
              "227                 38  \n",
              "228                 37  \n",
              "229                 42  \n",
              "230                 45  \n",
              "231                 39  \n",
              "232                 42  \n",
              "233                 35  \n",
              "234                 52  \n",
              "235                 30  \n",
              "236                 50  \n",
              "237                 38  \n",
              "238                 42  \n",
              "239                 40  \n",
              "240                 35  \n",
              "241                 30  \n",
              "242                 38  \n",
              "243                 40  \n",
              "\n",
              "[244 rows x 8 columns]"
            ]
          },
          "metadata": {
            "tags": []
          },
          "execution_count": 19
        }
      ]
    },
    {
      "metadata": {
        "id": "2XQWTcVzjBJS",
        "colab_type": "text"
      },
      "cell_type": "markdown",
      "source": [
        "#### 3. Na maioria das vezes os clientes vão ao restaurante para almoçar ou para jantar?"
      ]
    },
    {
      "metadata": {
        "id": "NB0tIh87jBJS",
        "colab_type": "code",
        "outputId": "1ced29e0-90b2-4486-b751-9c6a063a96cb",
        "colab": {
          "base_uri": "https://localhost:8080/"
        }
      },
      "cell_type": "code",
      "source": [
        "tips_data['horario'].mode()"
      ],
      "execution_count": 0,
      "outputs": [
        {
          "output_type": "execute_result",
          "data": {
            "text/plain": [
              "0    jantar\n",
              "dtype: object"
            ]
          },
          "metadata": {
            "tags": []
          },
          "execution_count": 20
        }
      ]
    },
    {
      "metadata": {
        "id": "gcr0wMjfjBJV",
        "colab_type": "text"
      },
      "cell_type": "markdown",
      "source": [
        "#### 4. Faça uma pergunta e responda utilizando a moda. Conta pra gente o que descobriu! ;)"
      ]
    },
    {
      "metadata": {
        "id": "b90UA9UgjBJW",
        "colab_type": "code",
        "colab": {}
      },
      "cell_type": "code",
      "source": [
        ""
      ],
      "execution_count": 0,
      "outputs": []
    },
    {
      "metadata": {
        "id": "n502Gub1jBJY",
        "colab_type": "text"
      },
      "cell_type": "markdown",
      "source": [
        "### Desafio: Mediana"
      ]
    },
    {
      "metadata": {
        "id": "dCs73-dyjBJZ",
        "colab_type": "text"
      },
      "cell_type": "markdown",
      "source": [
        "#### 1. Qual é a mediana das contas que os clientes pagam no restaurante?"
      ]
    },
    {
      "metadata": {
        "id": "ZlAScB-qjBJZ",
        "colab_type": "code",
        "outputId": "9a5ccc1e-d05e-4e6c-952d-0fc3812627af",
        "colab": {
          "base_uri": "https://localhost:8080/"
        }
      },
      "cell_type": "code",
      "source": [
        "tips_data['total_conta'].median()"
      ],
      "execution_count": 0,
      "outputs": [
        {
          "output_type": "execute_result",
          "data": {
            "text/plain": [
              "17.795"
            ]
          },
          "metadata": {
            "tags": []
          },
          "execution_count": 21
        }
      ]
    },
    {
      "metadata": {
        "id": "6LNBuFJDjBJe",
        "colab_type": "text"
      },
      "cell_type": "markdown",
      "source": [
        "#### 2. Qual é a mediana das gorjetas que os clientes pagam no restaurante?"
      ]
    },
    {
      "metadata": {
        "id": "HYJRMkCgjBJe",
        "colab_type": "code",
        "outputId": "81c0288c-3c4d-40fc-dcf4-6970913f7428",
        "colab": {
          "base_uri": "https://localhost:8080/"
        }
      },
      "cell_type": "code",
      "source": [
        "tips_data['gorjeta'].median()"
      ],
      "execution_count": 0,
      "outputs": [
        {
          "output_type": "execute_result",
          "data": {
            "text/plain": [
              "2.9"
            ]
          },
          "metadata": {
            "tags": []
          },
          "execution_count": 22
        }
      ]
    },
    {
      "metadata": {
        "id": "76FH3Nv9jBJh",
        "colab_type": "text"
      },
      "cell_type": "markdown",
      "source": [
        "#### 3. A mediana das contas é igual, maior ou menor do que a média das contas?"
      ]
    },
    {
      "metadata": {
        "id": "N4p3PQh_jBJi",
        "colab_type": "code",
        "outputId": "79270acc-87bc-4952-b402-6a73c5bea373",
        "colab": {
          "base_uri": "https://localhost:8080/"
        }
      },
      "cell_type": "code",
      "source": [
        "tips_data['total_conta'].mean()"
      ],
      "execution_count": 0,
      "outputs": [
        {
          "output_type": "execute_result",
          "data": {
            "text/plain": [
              "19.785942622950824"
            ]
          },
          "metadata": {
            "tags": []
          },
          "execution_count": 23
        }
      ]
    },
    {
      "metadata": {
        "id": "Lcvba00MjBJk",
        "colab_type": "text"
      },
      "cell_type": "markdown",
      "source": [
        "A mediana é maior do que a média do total das contas."
      ]
    },
    {
      "metadata": {
        "id": "hUGbnSemjBJk",
        "colab_type": "text"
      },
      "cell_type": "markdown",
      "source": [
        "#### 4. Compare também a mediana e a média das gorjetas."
      ]
    },
    {
      "metadata": {
        "id": "09DmcS8xjBJl",
        "colab_type": "code",
        "outputId": "bec2ebc3-257f-433b-84f9-c12b182bbaf9",
        "colab": {
          "base_uri": "https://localhost:8080/"
        }
      },
      "cell_type": "code",
      "source": [
        "tips_data['gorjeta'].mean()"
      ],
      "execution_count": 0,
      "outputs": [
        {
          "output_type": "execute_result",
          "data": {
            "text/plain": [
              "2.9982786885245902"
            ]
          },
          "metadata": {
            "tags": []
          },
          "execution_count": 24
        }
      ]
    },
    {
      "metadata": {
        "id": "YFPP-E0OjBJo",
        "colab_type": "text"
      },
      "cell_type": "markdown",
      "source": [
        "A mediana e a média das gorjetas são iguais."
      ]
    },
    {
      "metadata": {
        "id": "xKmMp8BHjBJo",
        "colab_type": "text"
      },
      "cell_type": "markdown",
      "source": [
        "### Desafio: Média, Moda e Mediana"
      ]
    },
    {
      "metadata": {
        "id": "zcJVuo89jBJp",
        "colab_type": "text"
      },
      "cell_type": "markdown",
      "source": [
        "#### 1. Qual é a média do tempo que os clientes ficam no restaurante?"
      ]
    },
    {
      "metadata": {
        "id": "HXvMWqwijBJp",
        "colab_type": "code",
        "outputId": "05c3a869-a77e-4623-cbdb-91a41627ed2d",
        "colab": {
          "base_uri": "https://localhost:8080/"
        }
      },
      "cell_type": "code",
      "source": [
        "tips_data['tempo_permanencia'].mean()"
      ],
      "execution_count": 0,
      "outputs": [
        {
          "output_type": "execute_result",
          "data": {
            "text/plain": [
              "40.26229508196721"
            ]
          },
          "metadata": {
            "tags": []
          },
          "execution_count": 25
        }
      ]
    },
    {
      "metadata": {
        "id": "HrFP45bXjBJs",
        "colab_type": "text"
      },
      "cell_type": "markdown",
      "source": [
        "#### 2. Qual é a mediana do tempo que os clientes ficam no restaurante?"
      ]
    },
    {
      "metadata": {
        "id": "88dGpVWvjBJt",
        "colab_type": "code",
        "outputId": "f72293a1-5a8c-4857-ba80-c92cf1feee32",
        "colab": {
          "base_uri": "https://localhost:8080/"
        }
      },
      "cell_type": "code",
      "source": [
        "tips_data['tempo_permanencia'].median()"
      ],
      "execution_count": 0,
      "outputs": [
        {
          "output_type": "execute_result",
          "data": {
            "text/plain": [
              "40.0"
            ]
          },
          "metadata": {
            "tags": []
          },
          "execution_count": 26
        }
      ]
    },
    {
      "metadata": {
        "id": "_AAqJg8xjBJv",
        "colab_type": "text"
      },
      "cell_type": "markdown",
      "source": [
        "#### 3. Qual é a moda do tempo que os clientes ficam no restaurante?"
      ]
    },
    {
      "metadata": {
        "id": "ol2-zrPajBJw",
        "colab_type": "code",
        "outputId": "068e8f36-6463-42c8-8606-14ab0d4211de",
        "colab": {
          "base_uri": "https://localhost:8080/",
          "height": 68
        }
      },
      "cell_type": "code",
      "source": [
        "tips_data['tempo_permanencia'].mode()"
      ],
      "execution_count": 0,
      "outputs": [
        {
          "output_type": "execute_result",
          "data": {
            "text/plain": [
              "0    37\n",
              "1    38\n",
              "dtype: int64"
            ]
          },
          "metadata": {
            "tags": []
          },
          "execution_count": 51
        }
      ]
    },
    {
      "metadata": {
        "id": "RYyIcNUvjBJ0",
        "colab_type": "text"
      },
      "cell_type": "markdown",
      "source": [
        "### Desafio: Quartis"
      ]
    },
    {
      "metadata": {
        "id": "KE2-SyWJjBJ4",
        "colab_type": "text"
      },
      "cell_type": "markdown",
      "source": [
        "#### 1. Quais são os quartis das contas? (coluna total_contas)"
      ]
    },
    {
      "metadata": {
        "id": "_BrRQKo_jBJ5",
        "colab_type": "code",
        "outputId": "0ddd24ad-b5a3-4aae-fbe8-02c378bb9de1",
        "colab": {
          "base_uri": "https://localhost:8080/",
          "height": 34
        }
      },
      "cell_type": "code",
      "source": [
        "tips_data['total_conta'].quantile(0.25)"
      ],
      "execution_count": 0,
      "outputs": [
        {
          "output_type": "execute_result",
          "data": {
            "text/plain": [
              "13.3475"
            ]
          },
          "metadata": {
            "tags": []
          },
          "execution_count": 28
        }
      ]
    },
    {
      "metadata": {
        "id": "wZf_GVfcjBKA",
        "colab_type": "code",
        "outputId": "89f6973a-6375-44a5-bd12-996270f3c56b",
        "colab": {
          "base_uri": "https://localhost:8080/",
          "height": 34
        }
      },
      "cell_type": "code",
      "source": [
        "tips_data['total_conta'].quantile(0.50)"
      ],
      "execution_count": 0,
      "outputs": [
        {
          "output_type": "execute_result",
          "data": {
            "text/plain": [
              "17.795"
            ]
          },
          "metadata": {
            "tags": []
          },
          "execution_count": 29
        }
      ]
    },
    {
      "metadata": {
        "id": "jszhCDELjBKE",
        "colab_type": "code",
        "outputId": "444f0cf0-fa61-47b2-dc7c-f0d037bf30a0",
        "colab": {
          "base_uri": "https://localhost:8080/",
          "height": 34
        }
      },
      "cell_type": "code",
      "source": [
        "tips_data['total_conta'].quantile(0.75)"
      ],
      "execution_count": 0,
      "outputs": [
        {
          "output_type": "execute_result",
          "data": {
            "text/plain": [
              "24.127499999999998"
            ]
          },
          "metadata": {
            "tags": []
          },
          "execution_count": 30
        }
      ]
    },
    {
      "metadata": {
        "id": "D6_CakH8jBKG",
        "colab_type": "text"
      },
      "cell_type": "markdown",
      "source": [
        "#### 2. Calcule a mediana das contas . Existe algum quartil igual à mediana? Por que?"
      ]
    },
    {
      "metadata": {
        "id": "tTMC4mpvjBKI",
        "colab_type": "code",
        "outputId": "fc729df7-28fa-4885-89a3-753dc83ed2a7",
        "colab": {
          "base_uri": "https://localhost:8080/"
        }
      },
      "cell_type": "code",
      "source": [
        "tips_data['total_conta'].median()"
      ],
      "execution_count": 0,
      "outputs": [
        {
          "output_type": "execute_result",
          "data": {
            "text/plain": [
              "17.795"
            ]
          },
          "metadata": {
            "tags": []
          },
          "execution_count": 31
        }
      ]
    },
    {
      "metadata": {
        "id": "Ax79pkAajBKL",
        "colab_type": "text"
      },
      "cell_type": "markdown",
      "source": [
        "#### 3. Qual é o máximo do valor que classifica uma conta entre as 25% contas mais baratas?"
      ]
    },
    {
      "metadata": {
        "id": "JqoH7boqjBKM",
        "colab_type": "code",
        "outputId": "eb0d652e-ac5e-4431-c2be-aa971d5b7c1b",
        "colab": {
          "base_uri": "https://localhost:8080/"
        }
      },
      "cell_type": "code",
      "source": [
        "tips_data['total_conta'].quantile(0.25)"
      ],
      "execution_count": 0,
      "outputs": [
        {
          "output_type": "execute_result",
          "data": {
            "text/plain": [
              "13.3475"
            ]
          },
          "metadata": {
            "tags": []
          },
          "execution_count": 32
        }
      ]
    },
    {
      "metadata": {
        "id": "0MuDhYvEjBKP",
        "colab_type": "text"
      },
      "cell_type": "markdown",
      "source": [
        "Contas até 13.35 estão entre as contas mais baratas do dataset tips.  \n",
        "Utilizamos o 1o quartil (Q1) para responder essa questão pois 25% dos dados são iguais ou menores que ele."
      ]
    },
    {
      "metadata": {
        "id": "K_mz9tBcjBKP",
        "colab_type": "text"
      },
      "cell_type": "markdown",
      "source": [
        "#### 4. Qual é o mínimo do valor que classifica uma conta entre as 75% contas mais caras?"
      ]
    },
    {
      "metadata": {
        "id": "b_MuuN7zjBKP",
        "colab_type": "code",
        "outputId": "0db5a8e1-acc3-4887-e136-fae8d66531c7",
        "colab": {
          "base_uri": "https://localhost:8080/"
        }
      },
      "cell_type": "code",
      "source": [
        "tips_data['total_conta'].quantile(0.75)"
      ],
      "execution_count": 0,
      "outputs": [
        {
          "output_type": "execute_result",
          "data": {
            "text/plain": [
              "24.127499999999998"
            ]
          },
          "metadata": {
            "tags": []
          },
          "execution_count": 33
        }
      ]
    },
    {
      "metadata": {
        "id": "eHg_qtP8jBKS",
        "colab_type": "text"
      },
      "cell_type": "markdown",
      "source": [
        "Contas a partir de 24.13 estão entre as contas mais caras do dataset tips.  \n",
        "Utilizamos o 3o quartil (Q3) para responder essa questão pois 25% dos dados são iguais ou maiores que ele."
      ]
    },
    {
      "metadata": {
        "id": "OehfI7PvjBKT",
        "colab_type": "text"
      },
      "cell_type": "markdown",
      "source": [
        "### Desafio: Tabela de Frequência: Groupby + Agg"
      ]
    },
    {
      "metadata": {
        "id": "B_X5zUWhjBKX",
        "colab_type": "text"
      },
      "cell_type": "markdown",
      "source": [
        "#### 1. Temos mais homens ou mulheres fumantes no dataset? Quantas mulheres e quantos homens são fumantes?"
      ]
    },
    {
      "metadata": {
        "id": "82voKnJyjBKY",
        "colab_type": "code",
        "outputId": "589ae51f-b251-40ab-a855-f78081ac3cc0",
        "colab": {
          "base_uri": "https://localhost:8080/"
        }
      },
      "cell_type": "code",
      "source": [
        "tips_data.groupby('genero')['fumante'].value_counts()"
      ],
      "execution_count": 0,
      "outputs": [
        {
          "output_type": "execute_result",
          "data": {
            "text/plain": [
              "genero     fumante\n",
              "Feminino   nao        54\n",
              "           sim        33\n",
              "Masculino  nao        97\n",
              "           sim        60\n",
              "Name: fumante, dtype: int64"
            ]
          },
          "metadata": {
            "tags": []
          },
          "execution_count": 34
        }
      ]
    },
    {
      "metadata": {
        "id": "c5ie36pPjBKa",
        "colab_type": "text"
      },
      "cell_type": "markdown",
      "source": [
        "Analisando os dados vemos que o dataset tem 33 mulheres fumantes e 60 homens que fumam. Portanto os dados mostram mais homens fumantes."
      ]
    },
    {
      "metadata": {
        "id": "o201qU5zjBKb",
        "colab_type": "text"
      },
      "cell_type": "markdown",
      "source": [
        "#### 2. Existe algum dia na semana que há mais mulheres do que homens no dataset? Se sim, qual é o dia? (Dica: value_counts)"
      ]
    },
    {
      "metadata": {
        "id": "raxAcyiejBKb",
        "colab_type": "code",
        "outputId": "77a4e877-9731-4a26-872c-f9ee1fc39efd",
        "colab": {
          "base_uri": "https://localhost:8080/"
        }
      },
      "cell_type": "code",
      "source": [
        "tips_data.groupby('genero')['dia'].value_counts()"
      ],
      "execution_count": 0,
      "outputs": [
        {
          "output_type": "execute_result",
          "data": {
            "text/plain": [
              "genero     dia\n",
              "Feminino   qui    32\n",
              "           sab    28\n",
              "           dom    18\n",
              "           sex     9\n",
              "Masculino  sab    59\n",
              "           dom    58\n",
              "           qui    30\n",
              "           sex    10\n",
              "Name: dia, dtype: int64"
            ]
          },
          "metadata": {
            "tags": []
          },
          "execution_count": 35
        }
      ]
    },
    {
      "metadata": {
        "id": "vQHXkmy5jBKe",
        "colab_type": "text"
      },
      "cell_type": "markdown",
      "source": [
        "Sim, na quinta-feira há mais mulheres que homens."
      ]
    },
    {
      "metadata": {
        "id": "mPqv9BeRjBKf",
        "colab_type": "text"
      },
      "cell_type": "markdown",
      "source": [
        "#### 3. Qual é o número de pessoas nas mesas que é mais comum durante o almoço e durante o jantar?\n"
      ]
    },
    {
      "metadata": {
        "id": "n0NzBvMJjBKf",
        "colab_type": "code",
        "outputId": "9099decb-b2ad-4933-dcf0-1bec8857acac",
        "colab": {
          "base_uri": "https://localhost:8080/"
        }
      },
      "cell_type": "code",
      "source": [
        "tips_data.groupby('horario')['pessoas_mesa'].value_counts()"
      ],
      "execution_count": 0,
      "outputs": [
        {
          "output_type": "execute_result",
          "data": {
            "text/plain": [
              "horario  pessoas_mesa\n",
              "almoco   2                52\n",
              "         3                 5\n",
              "         4                 5\n",
              "         6                 3\n",
              "         1                 2\n",
              "         5                 1\n",
              "jantar   2               104\n",
              "         3                33\n",
              "         4                32\n",
              "         5                 4\n",
              "         1                 2\n",
              "         6                 1\n",
              "Name: pessoas_mesa, dtype: int64"
            ]
          },
          "metadata": {
            "tags": []
          },
          "execution_count": 36
        }
      ]
    },
    {
      "metadata": {
        "id": "lmEINMTtjBKj",
        "colab_type": "text"
      },
      "cell_type": "markdown",
      "source": [
        "Durante o almoço e o jantar é mais comum ter 2 pessoas na mesa."
      ]
    },
    {
      "metadata": {
        "id": "zYpN4tiUjBKk",
        "colab_type": "text"
      },
      "cell_type": "markdown",
      "source": [
        "#### 4. Em qual refeição o restaurante mais fatura?"
      ]
    },
    {
      "metadata": {
        "id": "BNMtswoujBKl",
        "colab_type": "code",
        "outputId": "acb452a0-4e25-4a63-816d-38143996427c",
        "colab": {
          "base_uri": "https://localhost:8080/"
        }
      },
      "cell_type": "code",
      "source": [
        "tips_data.groupby('horario')['total_conta'].sum()"
      ],
      "execution_count": 0,
      "outputs": [
        {
          "output_type": "execute_result",
          "data": {
            "text/plain": [
              "horario\n",
              "almoco    1167.47\n",
              "jantar    3660.30\n",
              "Name: total_conta, dtype: float64"
            ]
          },
          "metadata": {
            "tags": []
          },
          "execution_count": 37
        }
      ]
    },
    {
      "metadata": {
        "id": "f4sAG4sqjBKn",
        "colab_type": "text"
      },
      "cell_type": "markdown",
      "source": [
        "O restaurante fatura mais durante o horário do jantar."
      ]
    },
    {
      "metadata": {
        "id": "fEdw3VaVjBKo",
        "colab_type": "text"
      },
      "cell_type": "markdown",
      "source": [
        "#### 5. Mostre a soma total e a média das contas por gênero com um único comando do Pandas. "
      ]
    },
    {
      "metadata": {
        "id": "cQFfUQ_YjBKp",
        "colab_type": "code",
        "outputId": "b33f9d33-e4d8-42f1-d4b3-c6f070c00f0f",
        "colab": {
          "base_uri": "https://localhost:8080/"
        }
      },
      "cell_type": "code",
      "source": [
        "tips_data.groupby('genero')['total_conta'].agg(['sum', 'mean'])"
      ],
      "execution_count": 0,
      "outputs": [
        {
          "output_type": "execute_result",
          "data": {
            "text/html": [
              "<div>\n",
              "<style scoped>\n",
              "    .dataframe tbody tr th:only-of-type {\n",
              "        vertical-align: middle;\n",
              "    }\n",
              "\n",
              "    .dataframe tbody tr th {\n",
              "        vertical-align: top;\n",
              "    }\n",
              "\n",
              "    .dataframe thead th {\n",
              "        text-align: right;\n",
              "    }\n",
              "</style>\n",
              "<table border=\"1\" class=\"dataframe\">\n",
              "  <thead>\n",
              "    <tr style=\"text-align: right;\">\n",
              "      <th></th>\n",
              "      <th>sum</th>\n",
              "      <th>mean</th>\n",
              "    </tr>\n",
              "    <tr>\n",
              "      <th>genero</th>\n",
              "      <th></th>\n",
              "      <th></th>\n",
              "    </tr>\n",
              "  </thead>\n",
              "  <tbody>\n",
              "    <tr>\n",
              "      <th>Feminino</th>\n",
              "      <td>1570.95</td>\n",
              "      <td>18.056897</td>\n",
              "    </tr>\n",
              "    <tr>\n",
              "      <th>Masculino</th>\n",
              "      <td>3256.82</td>\n",
              "      <td>20.744076</td>\n",
              "    </tr>\n",
              "  </tbody>\n",
              "</table>\n",
              "</div>"
            ],
            "text/plain": [
              "               sum       mean\n",
              "genero                       \n",
              "Feminino   1570.95  18.056897\n",
              "Masculino  3256.82  20.744076"
            ]
          },
          "metadata": {
            "tags": []
          },
          "execution_count": 38
        }
      ]
    },
    {
      "metadata": {
        "id": "uLRsY7ghjBKq",
        "colab_type": "text"
      },
      "cell_type": "markdown",
      "source": [
        "### Desafio Visualização de Dados - Gráficos"
      ]
    },
    {
      "metadata": {
        "id": "y1WSV6Cq84VL",
        "colab_type": "text"
      },
      "cell_type": "markdown",
      "source": [
        "#### 1. Mostre o histograma da coluna tempo_permanencia."
      ]
    },
    {
      "metadata": {
        "id": "G6zREppQjBKv",
        "colab_type": "code",
        "outputId": "6d4d3d20-e04e-44c0-9e09-2acf2d413dc6",
        "colab": {
          "base_uri": "https://localhost:8080/",
          "height": 376
        }
      },
      "cell_type": "code",
      "source": [
        "plt.hist(tips_data['tempo_permanencia']) #histograma\n",
        "plt.title('Histograma: Tempo de Permanência') #título\n",
        "plt.xlabel('tempo_permanencia') #eixo X\n",
        "plt.ylabel('Frequência'); #eixo Y"
      ],
      "execution_count": 0,
      "outputs": [
        {
          "output_type": "display_data",
          "data": {
            "image/png": "[encoded data removed]",
            "text/plain": [
              "<Figure size 576x396 with 1 Axes>"
            ]
          },
          "metadata": {
            "tags": []
          }
        }
      ]
    },
    {
      "metadata": {
        "id": "mk9m2b1t9WNt",
        "colab_type": "text"
      },
      "cell_type": "markdown",
      "source": [
        "#### 2. Plote o boxplot da coluna valor_conta."
      ]
    },
    {
      "metadata": {
        "id": "UUKGvLF1jBKx",
        "colab_type": "code",
        "outputId": "91b60855-f1c9-491f-942e-292f25d81cd2",
        "colab": {
          "base_uri": "https://localhost:8080/",
          "height": 376
        }
      },
      "cell_type": "code",
      "source": [
        "plt.boxplot(tips_data['total_conta']) #boxplot\n",
        "plt.title('Boxplot: total_conta') #título\n",
        "plt.xlabel('total_conta') #eixo X\n",
        "plt.ylabel('Frequência'); #eixo Y"
      ],
      "execution_count": 0,
      "outputs": [
        {
          "output_type": "display_data",
          "data": {
            "image/png": "[encoded data removed]",
            "text/plain": [
              "<Figure size 576x396 with 1 Axes>"
            ]
          },
          "metadata": {
            "tags": []
          }
        }
      ]
    },
    {
      "metadata": {
        "id": "0Mom37KxjBK0",
        "colab_type": "text"
      },
      "cell_type": "markdown",
      "source": [
        "### Desafio Variabilidade dos Dados"
      ]
    },
    {
      "metadata": {
        "id": "pdMQxmu-E5Uf",
        "colab_type": "text"
      },
      "cell_type": "markdown",
      "source": [
        "#### 1. Qual a variância do tempo de permanência dos clientes no restaurante ? Ela varia muito em relação a média?  E o desvio padrão? O que podemos entender com isso?"
      ]
    },
    {
      "metadata": {
        "id": "TJkpydVWFBoW",
        "colab_type": "code",
        "outputId": "59280a85-c148-44c7-b326-734d7277cfda",
        "colab": {
          "base_uri": "https://localhost:8080/",
          "height": 34
        }
      },
      "cell_type": "code",
      "source": [
        "tips_data['tempo_permanencia'].var()\n"
      ],
      "execution_count": 0,
      "outputs": [
        {
          "output_type": "execute_result",
          "data": {
            "text/plain": [
              "26.59758483437902"
            ]
          },
          "metadata": {
            "tags": []
          },
          "execution_count": 7
        }
      ]
    },
    {
      "metadata": {
        "id": "oMCpnvVey1Zf",
        "colab_type": "code",
        "outputId": "49bc243d-6b79-4b4b-a32f-f0bad013bcbf",
        "colab": {
          "base_uri": "https://localhost:8080/",
          "height": 34
        }
      },
      "cell_type": "code",
      "source": [
        "tips_data['tempo_permanencia'].std()"
      ],
      "execution_count": 0,
      "outputs": [
        {
          "output_type": "execute_result",
          "data": {
            "text/plain": [
              "5.157284637711886"
            ]
          },
          "metadata": {
            "tags": []
          },
          "execution_count": 8
        }
      ]
    },
    {
      "metadata": {
        "id": "nXiv1rVTE3ZW",
        "colab_type": "text"
      },
      "cell_type": "markdown",
      "source": [
        "\n",
        "#### 2. Será que o valor da fatura varia muito entre homens e mulheres? Selecione a melhor medida para comparar um grupo ao outro e verifique."
      ]
    },
    {
      "metadata": {
        "id": "c48qCCn4FCOI",
        "colab_type": "code",
        "outputId": "70759b99-6bb5-4470-8b8b-3958d8454e60",
        "colab": {
          "base_uri": "https://localhost:8080/",
          "height": 34
        }
      },
      "cell_type": "code",
      "source": [
        "# Desvio padrão da variável total_conta\n",
        "tips_data['total_conta'].std()"
      ],
      "execution_count": 5,
      "outputs": [
        {
          "output_type": "execute_result",
          "data": {
            "text/plain": [
              "8.902411954856856"
            ]
          },
          "metadata": {
            "tags": []
          },
          "execution_count": 5
        }
      ]
    },
    {
      "metadata": {
        "id": "mTFFy3FTzC_B",
        "colab_type": "code",
        "outputId": "11d9d523-c73f-4c85-c3c8-47d1ee3966c3",
        "colab": {
          "base_uri": "https://localhost:8080/",
          "height": 34
        }
      },
      "cell_type": "code",
      "source": [
        "# Desvio padrão do valor da conta das mulheres.\n",
        "tips_data[tips_data['genero']=='Feminino']['total_conta'].std()"
      ],
      "execution_count": 6,
      "outputs": [
        {
          "output_type": "execute_result",
          "data": {
            "text/plain": [
              "8.009208988951961"
            ]
          },
          "metadata": {
            "tags": []
          },
          "execution_count": 6
        }
      ]
    },
    {
      "metadata": {
        "id": "VvkuwhAzzDNo",
        "colab_type": "code",
        "outputId": "ccae097c-28e5-450a-8e58-4d764d79bea9",
        "colab": {
          "base_uri": "https://localhost:8080/",
          "height": 34
        }
      },
      "cell_type": "code",
      "source": [
        "# Desvio padrão do valor da conta dos homens.\n",
        "tips_data[tips_data['genero']=='Masculino']['total_conta'].std()"
      ],
      "execution_count": 7,
      "outputs": [
        {
          "output_type": "execute_result",
          "data": {
            "text/plain": [
              "9.24646876154476"
            ]
          },
          "metadata": {
            "tags": []
          },
          "execution_count": 7
        }
      ]
    },
    {
      "metadata": {
        "id": "LfWJBEAozDXC",
        "colab_type": "code",
        "colab": {
          "base_uri": "https://localhost:8080/",
          "height": 86
        },
        "outputId": "a410b36d-e608-44e4-8959-c29288fe03dd"
      },
      "cell_type": "code",
      "source": [
        "#Outra solução para ver a comparação dos valores entre homens e mulheres: \n",
        "tips_data.groupby('genero')['total_conta'].std()"
      ],
      "execution_count": 8,
      "outputs": [
        {
          "output_type": "execute_result",
          "data": {
            "text/plain": [
              "genero\n",
              "Feminino     8.009209\n",
              "Masculino    9.246469\n",
              "Name: total_conta, dtype: float64"
            ]
          },
          "metadata": {
            "tags": []
          },
          "execution_count": 8
        }
      ]
    },
    {
      "metadata": {
        "id": "spnXwzagjBK3",
        "colab_type": "text"
      },
      "cell_type": "markdown",
      "source": [
        "### Desafio Describe"
      ]
    },
    {
      "metadata": {
        "id": "PzrwWYxWjBK3",
        "colab_type": "text"
      },
      "cell_type": "markdown",
      "source": [
        "#### Utilizando o método Describe, verifique:"
      ]
    },
    {
      "metadata": {
        "id": "WI68cnUUjBK4",
        "colab_type": "text"
      },
      "cell_type": "markdown",
      "source": [
        "#### 1. As informações do faturamento do restaurante."
      ]
    },
    {
      "metadata": {
        "id": "moHD2exKjBK4",
        "colab_type": "code",
        "outputId": "867f2085-5ab6-4c81-f8a1-a62ab0c91458",
        "colab": {
          "base_uri": "https://localhost:8080/",
          "height": 170
        }
      },
      "cell_type": "code",
      "source": [
        "tips_data['total_conta'].describe()"
      ],
      "execution_count": 0,
      "outputs": [
        {
          "output_type": "execute_result",
          "data": {
            "text/plain": [
              "count    244.000000\n",
              "mean      19.785943\n",
              "std        8.902412\n",
              "min        3.070000\n",
              "25%       13.347500\n",
              "50%       17.795000\n",
              "75%       24.127500\n",
              "max       50.810000\n",
              "Name: total_conta, dtype: float64"
            ]
          },
          "metadata": {
            "tags": []
          },
          "execution_count": 43
        }
      ]
    },
    {
      "metadata": {
        "id": "nYSNrhnvjBK7",
        "colab_type": "text"
      },
      "cell_type": "markdown",
      "source": [
        "#### 2. As informações de todo o dataset."
      ]
    },
    {
      "metadata": {
        "id": "1VJSzL3EjBK7",
        "colab_type": "code",
        "outputId": "b4fe1c50-a41f-47b8-e955-e08ee0cd68cb",
        "colab": {
          "base_uri": "https://localhost:8080/",
          "height": 297
        }
      },
      "cell_type": "code",
      "source": [
        "tips_data.describe()"
      ],
      "execution_count": 0,
      "outputs": [
        {
          "output_type": "execute_result",
          "data": {
            "text/html": [
              "<div>\n",
              "<style scoped>\n",
              "    .dataframe tbody tr th:only-of-type {\n",
              "        vertical-align: middle;\n",
              "    }\n",
              "\n",
              "    .dataframe tbody tr th {\n",
              "        vertical-align: top;\n",
              "    }\n",
              "\n",
              "    .dataframe thead th {\n",
              "        text-align: right;\n",
              "    }\n",
              "</style>\n",
              "<table border=\"1\" class=\"dataframe\">\n",
              "  <thead>\n",
              "    <tr style=\"text-align: right;\">\n",
              "      <th></th>\n",
              "      <th>total_conta</th>\n",
              "      <th>gorjeta</th>\n",
              "      <th>pessoas_mesa</th>\n",
              "      <th>tempo_permanencia</th>\n",
              "    </tr>\n",
              "  </thead>\n",
              "  <tbody>\n",
              "    <tr>\n",
              "      <th>count</th>\n",
              "      <td>244.000000</td>\n",
              "      <td>244.000000</td>\n",
              "      <td>244.000000</td>\n",
              "      <td>244.000000</td>\n",
              "    </tr>\n",
              "    <tr>\n",
              "      <th>mean</th>\n",
              "      <td>19.785943</td>\n",
              "      <td>2.998279</td>\n",
              "      <td>2.569672</td>\n",
              "      <td>40.262295</td>\n",
              "    </tr>\n",
              "    <tr>\n",
              "      <th>std</th>\n",
              "      <td>8.902412</td>\n",
              "      <td>1.383638</td>\n",
              "      <td>0.951100</td>\n",
              "      <td>5.157285</td>\n",
              "    </tr>\n",
              "    <tr>\n",
              "      <th>min</th>\n",
              "      <td>3.070000</td>\n",
              "      <td>1.000000</td>\n",
              "      <td>1.000000</td>\n",
              "      <td>26.000000</td>\n",
              "    </tr>\n",
              "    <tr>\n",
              "      <th>25%</th>\n",
              "      <td>13.347500</td>\n",
              "      <td>2.000000</td>\n",
              "      <td>2.000000</td>\n",
              "      <td>37.000000</td>\n",
              "    </tr>\n",
              "    <tr>\n",
              "      <th>50%</th>\n",
              "      <td>17.795000</td>\n",
              "      <td>2.900000</td>\n",
              "      <td>2.000000</td>\n",
              "      <td>40.000000</td>\n",
              "    </tr>\n",
              "    <tr>\n",
              "      <th>75%</th>\n",
              "      <td>24.127500</td>\n",
              "      <td>3.562500</td>\n",
              "      <td>3.000000</td>\n",
              "      <td>44.000000</td>\n",
              "    </tr>\n",
              "    <tr>\n",
              "      <th>max</th>\n",
              "      <td>50.810000</td>\n",
              "      <td>10.000000</td>\n",
              "      <td>6.000000</td>\n",
              "      <td>53.000000</td>\n",
              "    </tr>\n",
              "  </tbody>\n",
              "</table>\n",
              "</div>"
            ],
            "text/plain": [
              "       total_conta     gorjeta  pessoas_mesa  tempo_permanencia\n",
              "count   244.000000  244.000000    244.000000         244.000000\n",
              "mean     19.785943    2.998279      2.569672          40.262295\n",
              "std       8.902412    1.383638      0.951100           5.157285\n",
              "min       3.070000    1.000000      1.000000          26.000000\n",
              "25%      13.347500    2.000000      2.000000          37.000000\n",
              "50%      17.795000    2.900000      2.000000          40.000000\n",
              "75%      24.127500    3.562500      3.000000          44.000000\n",
              "max      50.810000   10.000000      6.000000          53.000000"
            ]
          },
          "metadata": {
            "tags": []
          },
          "execution_count": 44
        }
      ]
    },
    {
      "metadata": {
        "id": "o7NAykrzjBK9",
        "colab_type": "text"
      },
      "cell_type": "markdown",
      "source": [
        "#### 3. Que tipos de variáveis ele mostra?  \n",
        "\n",
        "O describe mostra resultados para variáveis numéricas."
      ]
    }
  ]
}